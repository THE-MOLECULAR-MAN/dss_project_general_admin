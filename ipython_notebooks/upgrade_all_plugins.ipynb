{
  "metadata": {
    "hide_input": false,
    "kernelspec": {
      "name": "python3",
      "display_name": "Python 3 (ipykernel)",
      "language": "python"
    },
    "language_info": {
      "name": "python",
      "version": "3.9.21",
      "mimetype": "text/x-python",
      "codemirror_mode": {
        "name": "ipython",
        "version": 3
      },
      "pygments_lexer": "ipython3",
      "nbconvert_exporter": "python",
      "file_extension": ".py"
    },
    "createdOn": 1751312186828,
    "dkuGit": {
      "lastInteraction": 1756906848985,
      "gitReference": {
        "remote": "git@github.com:THE-MOLECULAR-MAN/dss_private.git",
        "checkout": "main",
        "remotePath": "admin/upgrade_all_plugins.ipynb",
        "remoteLogin": "",
        "lastHash": "19311061565e9449682d8d5e9100de7bb01194db",
        "lastTimestamp": 1756906681000,
        "isDirty": false
      }
    },
    "tags": [
      "recipe-editor"
    ],
    "associatedRecipe": "compute_null",
    "customFields": {},
    "creationTag": {
      "lastModifiedBy": {
        "login": "demo"
      },
      "lastModifiedOn": 1751312186828,
      "versionNumber": 0
    },
    "modifiedBy": "demo",
    "creator": "demo"
  },
  "nbformat": 4,
  "nbformat_minor": 1,
  "cells": [
    {
      "execution_count": 0,
      "cell_type": "code",
      "metadata": {},
      "source": [
        "import dataiku\nfrom dataikuapi.utils import DataikuException"
      ],
      "outputs": []
    },
    {
      "execution_count": 0,
      "cell_type": "code",
      "metadata": {},
      "source": [
        "# take too long, not updated super often\nplugins_to_skip_update \u003d [\u0027salesforce\u0027,\n                          \u0027microsoft-power-bi-v2\u0027,\n                          \u0027googlesheets\u0027,\n                          \u0027tableau-hyper-export\u0027,\n                          \u0027servicenow\u0027,\n                          \u0027api-connect\u0027,\n                          \u0027jira\u0027\n                         ]"
      ],
      "outputs": []
    },
    {
      "execution_count": 0,
      "cell_type": "code",
      "metadata": {},
      "source": [
        "client \u003d dataiku.api_client()\n\n# Retrieve all plugins\nplugins \u003d client.list_plugins()"
      ],
      "outputs": []
    },
    {
      "execution_count": 0,
      "cell_type": "code",
      "metadata": {},
      "source": [
        "def get_installed_version_of_plugin(plugin_id):\n    plugins \u003d client.list_plugins()\n    for plugin_info in plugins:\n        if plugin_id \u003d\u003d plugin_info[\u0027id\u0027]:\n            return  plugin_info.get(\u0027version\u0027, \u0027unknown\u0027)\n        \n# get_installed_version_of_plugin(\u0027govern\u0027)"
      ],
      "outputs": []
    },
    {
      "execution_count": 0,
      "cell_type": "code",
      "metadata": {},
      "source": [
        "# Function to check and update plugins that have available updates\ndef update_plugins(plugins):\n    for plugin_info in plugins:\n        plugin_id \u003d plugin_info[\u0027id\u0027]\n        \n        if plugin_id in plugins_to_skip_update:\n            continue\n        \n        plugin \u003d client.get_plugin(plugin_id)\n      \n        version_before \u003d plugin_info.get(\u0027version\u0027, \u0027unknown\u0027)\n\n        try:\n            # 5. Install updates when available\n            print(f\u0027Attempting to update plugin {plugin_id} ... \u0027, end\u003d\"\")\n            future \u003d plugin.update_from_store()\n            future.wait_for_result()\n\n            version_after \u003d get_installed_version_of_plugin(plugin_id)\n            \n            if version_before \u003d\u003d version_after:\n                print(f\u0027 No update available.\u0027)\n            else:\n                print(f\" Updated plugin: {plugin_id} from {version_before} to version {version_after}\")\n\n#             # 6. Rebuild code environments if necessary\n#             if \u0027bundle\u0027 in latest_version_info:\n#                 print(f\"Rebuilding code environment for plugin: {plugin_id}\")\n#                 env_future \u003d plugin.rebuild_bundle_env()\n#                 env_future.wait_for_result()\n#                 print(f\"Rebuilt code environment for plugin: {plugin_id}\")\n        except Exception as e:\n            print(f\"Failed to update {plugin_id}: {str(e)}\")\n\nupdate_plugins(plugins)\n\nprint(\"You may need to update the associated code environments for any plugins that were upgraded.\")"
      ],
      "outputs": []
    }
  ]
}