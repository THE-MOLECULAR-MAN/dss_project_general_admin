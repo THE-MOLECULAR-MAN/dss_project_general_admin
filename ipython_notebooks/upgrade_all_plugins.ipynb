{
  "metadata": {
    "hide_input": false,
    "kernelspec": {
      "name": "python3",
      "display_name": "Python 3 (ipykernel)",
      "language": "python"
    },
    "language_info": {
      "name": "python",
      "version": "3.9.21",
      "mimetype": "text/x-python",
      "codemirror_mode": {
        "name": "ipython",
        "version": 3
      },
      "pygments_lexer": "ipython3",
      "nbconvert_exporter": "python",
      "file_extension": ".py"
    },
    "createdOn": 1751312186828,
    "customFields": {},
    "creationTag": {
      "lastModifiedBy": {
        "login": "demo"
      },
      "lastModifiedOn": 1751312186828,
      "versionNumber": 0
    },
    "tags": [
      "recipe-editor"
    ],
    "associatedRecipe": "compute_null",
    "creator": "demo",
    "dkuGit": {
      "lastInteraction": 0
    },
    "modifiedBy": "demo"
  },
  "nbformat": 4,
  "nbformat_minor": 1,
  "cells": [
    {
      "execution_count": 0,
      "cell_type": "code",
      "metadata": {},
      "source": [
        "import os\nimport json\nimport dataiku\nimport os\nimport logging\nimport time\nimport re\nfrom dataikuapi.utils import DataikuException\nfrom concurrent.futures import ThreadPoolExecutor"
      ],
      "outputs": []
    },
    {
      "execution_count": 0,
      "cell_type": "code",
      "metadata": {},
      "source": [
        "client \u003d dataiku.api_client()\n# Retrieve all plugins\nplugins \u003d client.list_plugins()"
      ],
      "outputs": []
    },
    {
      "execution_count": 0,
      "cell_type": "code",
      "metadata": {},
      "source": [
        "# Iterate over each plugin to check and apply updates\nfor plugin_info in plugins:\n    plugin_id \u003d plugin_info[\u0027id\u0027]\n    plugin \u003d client.get_plugin(plugin_id)\n    \n    # Assuming all plugins are from the store, attempt an update\n    try:\n        print(f\"Starting update for plugin: {plugin_id}\")\n        future \u003d plugin.update_from_store()\n        future.wait_for_result()\n        print(f\"Updated plugin: {plugin_id}\")\n    except Exception as e:\n        print(f\"Plugin {plugin_id} could not be updated: {e}\")\n        \nprint(\"Finished updating all plugins.\")"
      ],
      "outputs": []
    },
    {
      "execution_count": 0,
      "cell_type": "code",
      "metadata": {},
      "source": [
        "# Function to check and update plugins that have available updates\ndef update_plugins(plugins):\n    for plugin_info in plugins:\n        plugin_id \u003d plugin_info[\u0027id\u0027]\n        plugin \u003d client.get_plugin(plugin_id)\n      \n        version_before \u003d plugin_info.get(\u0027version\u0027, \u00270.0\u0027)\n        \n        #latest_version_info \u003d plugin_info # plugin.get_definition()\n        #available_version \u003d latest_version_info.get(\u0027version\u0027, \u00270.0\u0027)\n        \n        # Compare installed vs available versions\n        #if installed_version !\u003d available_version:\n        #    print(f\"Plugin {plugin_id} is outdated: {installed_version} -\u003e {available_version}\")\n\n        try:\n            # 5. Install updates when available\n            print(f\u0027Updating plugin\u0027)\n            future \u003d plugin.update_from_store()\n            future.wait_for_result()\n            vvv \u003d client.get_plugin(plugin_id).get_settings().get_raw()\n            print(vvv)\n            version_after \u003d vvv.get(\u0027version\u0027, \u00270.0\u0027)\n\n            print(f\"Updated plugin: {plugin_id} from {version_before} to version {version_after}\")\n\n            # 6. Rebuild code environments if necessary\n            if \u0027bundle\u0027 in latest_version_info:\n                print(f\"Rebuilding code environment for plugin: {plugin_id}\")\n                env_future \u003d plugin.rebuild_bundle_env()\n                env_future.wait_for_result()\n                print(f\"Rebuilt code environment for plugin: {plugin_id}\")\n        except Exception as e:\n            print(f\"Failed to update {plugin_id}: {str(e)}\")\n\nupdate_plugins(plugins)"
      ],
      "outputs": []
    },
    {
      "execution_count": 0,
      "cell_type": "code",
      "metadata": {},
      "source": [
        ""
      ],
      "outputs": []
    }
  ]
}