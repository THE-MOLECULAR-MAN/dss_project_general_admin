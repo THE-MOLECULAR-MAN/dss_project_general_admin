{
  "metadata": {
    "hide_input": false,
    "kernelspec": {
      "name": "py-dku-venv-default_rag_environment",
      "display_name": "Python (env Default_RAG_Environment)",
      "language": "python"
    },
    "language_info": {
      "name": "python",
      "version": "3.9.21",
      "mimetype": "text/x-python",
      "codemirror_mode": {
        "name": "ipython",
        "version": 3
      },
      "pygments_lexer": "ipython3",
      "nbconvert_exporter": "python",
      "file_extension": ".py"
    },
    "creator": "tim.honker@dataiku.com",
    "modifiedBy": "demo",
    "versionNumber": 2,
    "dkuGit": {
      "lastInteraction": 1756906848906,
      "gitReference": {
        "remote": "git@github.com:THE-MOLECULAR-MAN/dss_private.git",
        "checkout": "main",
        "remotePath": "admin/list_dataset_connection_settings.ipynb",
        "remoteLogin": "",
        "lastHash": "19311061565e9449682d8d5e9100de7bb01194db",
        "lastTimestamp": 1756906681000,
        "isDirty": false
      }
    },
    "createdOn": 1735679687076,
    "customFields": {},
    "tags": []
  },
  "nbformat": 4,
  "nbformat_minor": 1,
  "cells": [
    {
      "cell_type": "markdown",
      "metadata": {},
      "source": [
        "# Listing all dataset connections and some basic settings\n\nUseful for troubleshooting a migration of a DSS project between servers"
      ]
    },
    {
      "execution_count": 0,
      "cell_type": "code",
      "metadata": {},
      "source": [
        "import dataiku\nfrom dataiku import pandasutils as pdu\nimport pandas as pd"
      ],
      "outputs": []
    },
    {
      "execution_count": 0,
      "cell_type": "code",
      "metadata": {},
      "source": [
        "client \u003d dataiku.api_client()\nproject \u003d client.get_default_project()\ndata \u003d project.list_datasets()"
      ],
      "outputs": []
    },
    {
      "execution_count": 0,
      "cell_type": "code",
      "metadata": {},
      "source": [
        "# data # used for viewing the structure, finding new fields to extract"
      ],
      "outputs": []
    },
    {
      "execution_count": 0,
      "cell_type": "code",
      "metadata": {},
      "source": [
        "extracted_data \u003d [\n    {\n        \u0027type\u0027: row.get(\u0027type\u0027),\n        \u0027name\u0027: row.get(\u0027name\u0027),\n        \u0027connection\u0027: row.get(\u0027params\u0027, {}).get(\u0027connection\u0027),\n        \u0027table\u0027: row.get(\u0027params\u0027, {}).get(\u0027table\u0027),\n        \u0027catalog\u0027: row.get(\u0027params\u0027, {}).get(\u0027catalog\u0027),\n        \u0027schema\u0027: row.get(\u0027params\u0027, {}).get(\u0027schema\u0027),\n        # get the schema too\n    }\n    for row in data\n]"
      ],
      "outputs": []
    },
    {
      "execution_count": 0,
      "cell_type": "code",
      "metadata": {},
      "source": [
        "df \u003d pd.DataFrame(extracted_data).sort_values(by\u003d\u0027connection\u0027)"
      ],
      "outputs": []
    },
    {
      "execution_count": 0,
      "cell_type": "code",
      "metadata": {},
      "source": [
        "df"
      ],
      "outputs": []
    }
  ]
}