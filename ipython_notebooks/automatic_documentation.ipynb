{
  "metadata": {
    "kernelspec": {
      "name": "python3",
      "display_name": "Python 3 (ipykernel)",
      "language": "python"
    },
    "hide_input": false,
    "language_info": {
      "name": "python",
      "version": "3.10.12",
      "mimetype": "text/x-python",
      "codemirror_mode": {
        "name": "ipython",
        "version": 3
      },
      "pygments_lexer": "ipython3",
      "nbconvert_exporter": "python",
      "file_extension": ".py"
    },
    "createdOn": 1761572597257,
    "customFields": {},
    "creator": "admin",
    "tags": [],
    "modifiedBy": "admin"
  },
  "nbformat": 4,
  "nbformat_minor": 1,
  "cells": [
    {
      "cell_type": "markdown",
      "metadata": {},
      "source": [
        "# Generate automatic documentation for individual project"
      ]
    },
    {
      "execution_count": 0,
      "cell_type": "code",
      "metadata": {},
      "source": [
        "import dataiku\nfrom dataiku import pandasutils as pdu\nimport pandas as pd"
      ],
      "outputs": []
    },
    {
      "execution_count": 0,
      "cell_type": "code",
      "metadata": {},
      "source": [
        "PROJECT_KEY \u003d \u0027TIM_HEALTH_DATA\u0027\nDATASET_ID \u003d \u0027Apple_Health_daily_summaries\u0027"
      ],
      "outputs": []
    },
    {
      "execution_count": 0,
      "cell_type": "code",
      "metadata": {},
      "source": [
        "client \u003d dataiku.api_client()\nproject \u003d client.get_project(PROJECT_KEY)\ndataset_handle \u003d project.get_dataset(DATASET_ID)"
      ],
      "outputs": []
    },
    {
      "execution_count": 0,
      "cell_type": "code",
      "metadata": {},
      "source": [
        "# this blocks execution, no futures\n# dataset_handle.generate_ai_description(save_description\u003dTrue)"
      ],
      "outputs": []
    },
    {
      "execution_count": 0,
      "cell_type": "code",
      "metadata": {},
      "source": [
        "# reset the metadata on a dataset\nmd \u003d dataset_handle.get_metadata()\nmd[\u0027description\u0027] \u003d \u0027\u0027\ndataset_handle.set_metadata(md)\ndataset_handle.get_metadata()"
      ],
      "outputs": []
    },
    {
      "execution_count": 0,
      "cell_type": "code",
      "metadata": {},
      "source": [
        "def get_dataset_long_description(dataset_handle):\n    dataset_metadata \u003d dataset_handle.get_metadata()\n    return dataset_metadata[\u0027description\u0027]\n\n\ndef get_dataset_short_description(dataset_handle):\n    dataset_settings \u003d dataset_handle.get_settings().get_raw()\n    return dataset_settings[\u0027shortDesc\u0027]\n\n\ndef get_dataset_column_descriptions(dataset_handle):\n    dataset_schema \u003d dataset_handle.get_schema()\n    return [item[\"comment\"] for item in dataset_schema[\u0027columns\u0027]]\n\n\ndef dataset_has_full_documentation(client, PROJECT_KEY, dataset_id):\n    \"\"\"x\"\"\"\n    project \u003d client.get_project(PROJECT_KEY)\n    dataset_handle \u003d project.get_dataset(DATASET_ID)\n\n    \n    if not get_dataset_long_description(dataset_handle):\n        print(\u0027Dataset lacks full documentation because empty: Long Description\u0027)\n        return False\n    \n    if not get_dataset_short_description(dataset_handle):\n        print(\u0027Dataset lacks full documentation because empty: Short Description\u0027)\n        return False\n    \n    column_descriptions \u003d get_dataset_column_descriptions(dataset_handle)\n\n    if any(not s or not s.strip() for s in column_descriptions):\n        print(\u0027Dataset lacks full documentation because empty: Column descriptions\u0027)\n        return False\n    \n    return True"
      ],
      "outputs": []
    },
    {
      "execution_count": 0,
      "cell_type": "code",
      "metadata": {},
      "source": [
        "dataset_has_full_documentation(client, PROJECT_KEY, DATASET_ID)"
      ],
      "outputs": []
    },
    {
      "execution_count": 0,
      "cell_type": "code",
      "metadata": {},
      "source": [
        ""
      ],
      "outputs": []
    }
  ]
}