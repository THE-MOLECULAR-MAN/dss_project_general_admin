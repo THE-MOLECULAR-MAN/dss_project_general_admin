{
  "metadata": {
    "kernelspec": {
      "name": "python3",
      "display_name": "Python 3 (ipykernel)",
      "language": "python"
    },
    "hide_input": false,
    "language_info": {
      "name": "python",
      "version": "3.10.12",
      "mimetype": "text/x-python",
      "codemirror_mode": {
        "name": "ipython",
        "version": 3
      },
      "pygments_lexer": "ipython3",
      "nbconvert_exporter": "python",
      "file_extension": ".py"
    },
    "createdOn": 1761572597257,
    "customFields": {},
    "creator": "admin",
    "tags": [],
    "modifiedBy": "admin"
  },
  "nbformat": 4,
  "nbformat_minor": 1,
  "cells": [
    {
      "cell_type": "markdown",
      "metadata": {},
      "source": [
        "# Generate automatic documentation for individual project"
      ]
    },
    {
      "execution_count": 0,
      "cell_type": "code",
      "metadata": {},
      "source": [
        "import dataiku\nfrom dataiku import pandasutils as pdu\nimport pandas as pd"
      ],
      "outputs": []
    },
    {
      "execution_count": 0,
      "cell_type": "code",
      "metadata": {},
      "source": [
        "PROJECT_KEY \u003d \u0027TIM_HEALTH_DATA\u0027\nDATASET_ID \u003d \u0027Apple_Health_daily_summaries\u0027"
      ],
      "outputs": []
    },
    {
      "execution_count": 0,
      "cell_type": "code",
      "metadata": {},
      "source": [
        "client \u003d dataiku.api_client()\nproject \u003d client.get_project(PROJECT_KEY)\ndataset_handle \u003d project.get_dataset(DATASET_ID)"
      ],
      "outputs": []
    },
    {
      "execution_count": 0,
      "cell_type": "code",
      "metadata": {},
      "source": [
        "dataset_handle"
      ],
      "outputs": []
    },
    {
      "execution_count": 0,
      "cell_type": "code",
      "metadata": {},
      "source": [
        "# starting it:\ncurl \u0027https://10.0.1.37:8443/dip/api/flow/ai-tools/start-dataset-explanation\u0027 \\\n  -H \u0027Accept: application/json, text/plain, */*\u0027 \\\n  -H \u0027Accept-Language: en-US,en;q\u003d0.9\u0027 \\\n  -H \u0027Cache-Control: no-cache\u0027 \\\n  -H \u0027Connection: keep-alive\u0027 \\\n  -H \u0027Content-Type: application/x-www-form-urlencoded;charset\u003dUTF-8\u0027 \\\n  -b \u0027__wt1vic\u003dbe9460313558f3c; dss_identity_token_66cebbb596cf6380a393ae2370bdc169\u003d3LzWTLEHzoQqCpyjC9Da95jOmIc9Qz9MGx5rZLKYD2DdhqRHS06J0a2Nyz2Uawr1; dss_access_token_66cebbb596cf6380a393ae2370bdc169\u003dgh7O5hsbZsWWxdXSxE0TlCfi1d5EuwAZnawtOcXcVct16M6QG46icYOFVF5LbUKP; dss_xsrf_token_66cebbb596cf6380a393ae2370bdc169\u003dea04da98f4318e80a9f0f76873bd645b6ff22529971d06cffa9b15a40b9140d2; X-DKU-Flask-User\u003dHrzuULlbIAUihAzQdYWvDzCbFmWvYhsr; dss_identity_token_0838b03a94805a04c768295fce7951f9\u003d4PKWWvbcTkf59xRlhcPMJln1AVj5SSDlmwpBOygK6MH25eZq8BRoi7lDFcre7uh2; dss_access_token_0838b03a94805a04c768295fce7951f9\u003dr7c2WXxYa5LfRjuCPQAR88dPdmF8GKHab0k7Y6jtaViiK1pjYixqLOWMSvqb1vIP; dss_xsrf_token_0838b03a94805a04c768295fce7951f9\u003dcfd4221a9d12a8c4e48e731561d489600df381a160cb61a4b94ff9bd183a7a87; _xsrf\u003d2|4845a794|ee4da3444be018105db1bd3658f74076|1759516840; __wt1vpc\u003ddipInstanceId%3Ddevl1-timhonker-504caa6fdebbbe241401068441abb5e6-2d17c61e4416e1c4d34957423a3f9671%26installId%3DO6WDoaZUEj3YXWcAceKznT4w%26dssLicenseKind%3DDATAIKU_INTERNAL%26bkdDistrib%3Dubuntu%26bkdDistribVersion%3D22.04%26deploymentMode%3DCUSTOM%26nodeType%3Ddesign%26enabledFeatureFlags%3DGOVERN_INTEGRATION%252CllmFineTuningSupport%252Cstreaming%252CllmFineTuningExperimentalSupport%252CtestingWithDss%252CaiExplain%252CaiPrepare%252CllmCoreSupport%252CcodeAssistant%252ChomepageRedesign%252Cstory%252CllmEvaluation%26isAutomation%3Dfalse%26dssVersion%3D14.2.0%26vdssUser%3D92668751; __wt1sic\u003d11a6e5d15553184; __wt1spc\u003dcurrentState%3Dprojects.project.datasets.dataset.explore\u0027 \\\n  -H \u0027Origin: https://10.0.1.37:8443\u0027 \\\n  -H \u0027Pragma: no-cache\u0027 \\\n  -H \u0027Referer: https://10.0.1.37:8443/projects/TIM_HEALTH_DATA/datasets/Apple_Health_daily_summaries/explore/\u0027 \\\n  -H \u0027Sec-Fetch-Dest: empty\u0027 \\\n  -H \u0027Sec-Fetch-Mode: cors\u0027 \\\n  -H \u0027Sec-Fetch-Site: same-origin\u0027 \\\n  -H \u0027User-Agent: Mozilla/5.0 (Macintosh; Intel Mac OS X 10_15_7) AppleWebKit/537.36 (KHTML, like Gecko) Chrome/141.0.0.0 Safari/537.36\u0027 \\\n  -H \u0027X-XSRF-TOKEN: cfd4221a9d12a8c4e48e731561d489600df381a160cb61a4b94ff9bd183a7a87\u0027 \\\n  -H \u0027sec-ch-ua: \"Google Chrome\";v\u003d\"141\", \"Not?A_Brand\";v\u003d\"8\", \"Chromium\";v\u003d\"141\"\u0027 \\\n  -H \u0027sec-ch-ua-mobile: ?0\u0027 \\\n  -H \u0027sec-ch-ua-platform: \"macOS\"\u0027 \\\n  -H \u0027version-id: 14.2.0\u0027 \\\n  --data-raw \u0027projectKey\u003dTIM_HEALTH_DATA\u0026datasetName\u003dApple_Health_daily_summaries\u0026explanationOptions\u003d%7B%22language%22%3A%22english%22%7D\u0027 \\\n  --insecure\n\n# keep checking it until it is finished:\ncurl \u0027https://10.0.1.37:8443/dip/api/futures/get-update?futureId\u003dILerZ46k\u0027 \\\n  -H \u0027Accept: application/json, text/plain, */*\u0027 \\\n  -H \u0027Accept-Language: en-US,en;q\u003d0.9\u0027 \\\n  -H \u0027Cache-Control: no-cache\u0027 \\\n  -H \u0027Connection: keep-alive\u0027 \\\n  -b \u0027__wt1vic\u003dbe9460313558f3c; dss_identity_token_66cebbb596cf6380a393ae2370bdc169\u003d3LzWTLEHzoQqCpyjC9Da95jOmIc9Qz9MGx5rZLKYD2DdhqRHS06J0a2Nyz2Uawr1; dss_access_token_66cebbb596cf6380a393ae2370bdc169\u003dgh7O5hsbZsWWxdXSxE0TlCfi1d5EuwAZnawtOcXcVct16M6QG46icYOFVF5LbUKP; dss_xsrf_token_66cebbb596cf6380a393ae2370bdc169\u003dea04da98f4318e80a9f0f76873bd645b6ff22529971d06cffa9b15a40b9140d2; X-DKU-Flask-User\u003dHrzuULlbIAUihAzQdYWvDzCbFmWvYhsr; dss_identity_token_0838b03a94805a04c768295fce7951f9\u003d4PKWWvbcTkf59xRlhcPMJln1AVj5SSDlmwpBOygK6MH25eZq8BRoi7lDFcre7uh2; dss_access_token_0838b03a94805a04c768295fce7951f9\u003dr7c2WXxYa5LfRjuCPQAR88dPdmF8GKHab0k7Y6jtaViiK1pjYixqLOWMSvqb1vIP; dss_xsrf_token_0838b03a94805a04c768295fce7951f9\u003dcfd4221a9d12a8c4e48e731561d489600df381a160cb61a4b94ff9bd183a7a87; _xsrf\u003d2|4845a794|ee4da3444be018105db1bd3658f74076|1759516840; __wt1vpc\u003ddipInstanceId%3Ddevl1-timhonker-504caa6fdebbbe241401068441abb5e6-2d17c61e4416e1c4d34957423a3f9671%26installId%3DO6WDoaZUEj3YXWcAceKznT4w%26dssLicenseKind%3DDATAIKU_INTERNAL%26bkdDistrib%3Dubuntu%26bkdDistribVersion%3D22.04%26deploymentMode%3DCUSTOM%26nodeType%3Ddesign%26enabledFeatureFlags%3DGOVERN_INTEGRATION%252CllmFineTuningSupport%252Cstreaming%252CllmFineTuningExperimentalSupport%252CtestingWithDss%252CaiExplain%252CaiPrepare%252CllmCoreSupport%252CcodeAssistant%252ChomepageRedesign%252Cstory%252CllmEvaluation%26isAutomation%3Dfalse%26dssVersion%3D14.2.0%26vdssUser%3D92668751; __wt1sic\u003d11a6e5d15553184; __wt1spc\u003dcurrentState%3Dprojects.project.datasets.dataset.explore\u0027 \\\n  -H \u0027Pragma: no-cache\u0027 \\\n  -H \u0027Referer: https://10.0.1.37:8443/projects/TIM_HEALTH_DATA/datasets/Apple_Health_daily_summaries/explore/\u0027 \\\n  -H \u0027Sec-Fetch-Dest: empty\u0027 \\\n  -H \u0027Sec-Fetch-Mode: cors\u0027 \\\n  -H \u0027Sec-Fetch-Site: same-origin\u0027 \\\n  -H \u0027User-Agent: Mozilla/5.0 (Macintosh; Intel Mac OS X 10_15_7) AppleWebKit/537.36 (KHTML, like Gecko) Chrome/141.0.0.0 Safari/537.36\u0027 \\\n  -H \u0027X-XSRF-TOKEN: cfd4221a9d12a8c4e48e731561d489600df381a160cb61a4b94ff9bd183a7a87\u0027 \\\n  -H \u0027sec-ch-ua: \"Google Chrome\";v\u003d\"141\", \"Not?A_Brand\";v\u003d\"8\", \"Chromium\";v\u003d\"141\"\u0027 \\\n  -H \u0027sec-ch-ua-mobile: ?0\u0027 \\\n  -H \u0027sec-ch-ua-platform: \"macOS\"\u0027 \\\n  -H \u0027version-id: 14.2.0\u0027 \\\n  --insecure\n\n# still waiting response:\n{\n    \"hasResult\": false,\n    \"aborted\": false,\n    \"alive\": true,\n    \"startTime\": 1761573091025,\n    \"runningTime\": 27,\n    \"unknown\": false,\n    \"jobId\": \"ILerZ46k\",\n    \"progress\": {\n        \"states\": [\n            {\n                \"name\": \"Computing\",\n                \"unit\": \"NONE\",\n                \"target\": 5.0,\n                \"cur\": 1.0,\n                \"important\": false,\n                \"depth\": 0,\n                \"startTimestamp\": 1761573091030,\n                \"msSinceStart\": 22\n            },\n            {\n                \"name\": \"Building sample\",\n                \"unit\": \"NONE\",\n                \"target\": -1.0,\n                \"cur\": 0.0,\n                \"important\": false,\n                \"depth\": 0,\n                \"startTimestamp\": 1761573091042,\n                \"msSinceStart\": 10\n            }\n        ]\n    }\n}\n\n\n# ready response:\n{\n    \"hasResult\": true,\n    \"aborted\": false,\n    \"alive\": false,\n    \"startTime\": 0,\n    \"runningTime\": 0,\n    \"unknown\": false,\n    \"result\": {\n        \"ok\": true,\n        \"requestId\": \"5d412cc2-3166-4acc-bdc3-2eb4bb6abdda\",\n        \"shortDesc\": \"Apple Health daily summaries with health metrics and activity data.\",\n        \"longDesc\": \"The Apple Health daily summaries dataset provides a comprehensive overview of various health and activity metrics collected on a daily basis. This dataset is particularly useful for individuals or researchers interested in tracking health trends, analyzing physical activity, and understanding personal health metrics over time. It includes a wide range of data points such as active energy expenditure, blood pressure readings, body composition metrics, and detailed sleep analysis. Additionally, it tracks daily activities like step count, flights climbed, and walking or running distances. Unique features of this dataset include detailed sleep analysis with metrics like core, deep, and REM sleep, as well as sexual activity tracking. The dataset can be used for personal health monitoring, fitness tracking, or even in research studies focusing on health and wellness. By analyzing this data, users can gain insights into their daily health patterns, identify areas for improvement, and make informed decisions about their lifestyle and health management.\",\n        \"colDesc\": {\n            \"Active Energy (kcal)\": \"Calories burned through activity, measures daily energy expenditure.\",\n            \"Blood Pressure [Diastolic] (mmHg)\": \"Diastolic blood pressure, important for heart health.\",\n            \"Blood Pressure [Systolic] (mmHg)\": \"Systolic blood pressure, indicates cardiovascular health.\",\n            \"Body Fat Percentage (%)\": \"Body fat percentage, assesses body composition.\",\n            \"Body Mass Index (count)\": \"BMI, evaluates body weight relative to height.\",\n            \"Date\": \"The date of the recorded data, key for time series analysis.\",\n            \"Flights Climbed (count)\": \"Number of flights of stairs climbed, measures physical activity.\",\n            \"Headphone Audio Exposure (dBASPL)\": \"Audio exposure level, monitors hearing health.\",\n            \"Heart Rate [Avg] (bpm)\": \"Average heart rate, reflects overall heart activity.\",\n            \"Heart Rate [Max] (bpm)\": \"Maximum heart rate, indicates cardiovascular exertion.\",\n            \"Lean Body Mass (lb)\": \"Lean body mass, part of body composition analysis.\",\n            \"Respiratory Rate (count/min)\": \"Breathing rate, important for respiratory health.\",\n            \"Resting Heart Rate (bpm)\": \"Resting heart rate, indicates cardiovascular fitness.\",\n            \"Sleep Analysis [Asleep] (hr)\": \"Total hours asleep, measures sleep duration.\",\n            \"Sleep Analysis [Awake] (hr)\": \"Awake hours during sleep, indicates sleep disturbances.\",\n            \"Sleep Analysis [Core] (hr)\": \"Core sleep hours, part of sleep quality analysis.\",\n            \"Sleep Analysis [Deep] (hr)\": \"Deep sleep hours, crucial for restorative sleep.\",\n            \"Sleep Analysis [In Bed] (hr)\": \"Total hours in bed, indicates sleep opportunity.\",\n            \"Sleep Analysis [REM] (hr)\": \"REM sleep hours, important for cognitive health.\",\n            \"Step Count (steps)\": \"Total steps taken, measures daily activity level.\",\n            \"Walking + Running Distance (mi)\": \"Distance covered walking/running, tracks physical activity.\",\n            \"Water (fl. oz.)\": \"Water intake, important for hydration monitoring.\",\n            \"Weight/Body Mass (lb)\": \"Body weight, key for tracking weight changes.\",\n            \"age_days\": \"Age in days, useful for age-related analysis.\"\n        }\n    }\n}\n"
      ],
      "outputs": []
    }
  ]
}