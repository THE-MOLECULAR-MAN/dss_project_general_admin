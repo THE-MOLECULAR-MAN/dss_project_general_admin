{
  "nbformat": 4,
  "nbformat_minor": 0,
  "metadata": {
    "kernelspec": {
      "display_name": "Python 3",
      "language": "python",
      "name": "python3"
    },
    "associatedRecipe": "compute_null2",
    "creator": "demo",
    "createdOn": 1758117375005,
    "tags": [
      "recipe-editor"
    ],
    "customFields": {}
  },
  "cells": [
    {
      "cell_type": "code",
      "metadata": {},
      "outputs": [],
      "execution_count": 0,
      "source": [
        "# update_all_dss_projects_on_github.py\n",
        "# Tim H 2025\n",
        "#\n",
        "# This script iterates through all projects on a DSS instance and attempts to push all commits to GitHub\n",
        "# for projects that are connected to GitHub.\n",
        "# It is intended to be run as a scenario on a schedule\n",
        "#\n",
        "# https://developer.dataiku.com/latest/tutorials/devtools/using-api-with-git-project/index.html\n",
        "# https://developer.dataiku.com/latest/api-reference/python/projects.html#dataikuapi.dss.project.DSSProjectGit.get_remote\n",
        "\n",
        "import dataiku\n",
        "from dataiku import pandasutils as pdu\n",
        "import pandas as pd\n",
        "\n",
        "client \u003d dataiku.api_client()\n",
        "projects \u003d client.list_projects()\n",
        "\n",
        "successful \u003d set()\n",
        "not_connected \u003d set()\n",
        "errored \u003d set()\n",
        "\n",
        "for iter_project_key in client.list_project_keys():\n",
        "    proj \u003d client.get_project(iter_project_key)\n",
        "    project_git \u003d proj.get_project_git()\n",
        "    r \u003d project_git.get_remote()\n",
        "    if r:\n",
        "        # print(r)\n",
        "        res_push \u003d project_git.push()\n",
        "        res_pull \u003d project_git.pull() # code studiodoes onot exist for PMM\n",
        "        # print(res)\n",
        "        if (not res_push.get(\u0027success\u0027,False)) or (not res_pull.get(\u0027success\u0027,False)):\n",
        "            print(f\"[ERROR] pushing {iter_project_key}\")\n",
        "            errored.add(iter_project_key)\n",
        "            continue\n",
        "        successful.add(iter_project_key)\n",
        "    else:\n",
        "        # print(f\"{iter_project_key} is not connected to GitHub\")\n",
        "        not_connected.add(iter_project_key)\n",
        "print(f\"Successfully pushed {len(successful)} projects: \\n{pushed}\\n\")\n",
        "print(f\"{len(not_connected)} projects not connected to GitHub: \\n{not_connected}\")\n",
        "\n",
        "if len(errored) \u003e 0:\n",
        "    print(f\"Projects had errors when pushig:\\n{errored}\")"
      ]
    }
  ]
}