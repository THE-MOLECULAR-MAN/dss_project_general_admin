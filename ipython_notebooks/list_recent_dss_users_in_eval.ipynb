{
  "metadata": {
    "createdOn": 1747247134884,
    "creator": "tim.honker@dataiku.com",
    "customFields": {},
    "hide_input": false,
    "kernelspec": {
      "display_name": "Python 3 (ipykernel)",
      "language": "python",
      "name": "python3"
    },
    "language_info": {
      "codemirror_mode": {
        "name": "ipython",
        "version": 3
      },
      "file_extension": ".py",
      "mimetype": "text/x-python",
      "name": "python",
      "nbconvert_exporter": "python",
      "pygments_lexer": "ipython3",
      "version": "3.9.20"
    },
    "modifiedBy": "tim.honker@dataiku.com",
    "tags": [],
    "versionNumber": 1,
    "dkuGit": {
      "lastInteraction": 1756906848918,
      "gitReference": {
        "remote": "git@github.com:THE-MOLECULAR-MAN/dss_private.git",
        "checkout": "main",
        "remotePath": "admin/list_recent_dss_users_in_eval.ipynb",
        "remoteLogin": "",
        "lastHash": "19311061565e9449682d8d5e9100de7bb01194db",
        "lastTimestamp": 1756906681000,
        "isDirty": false
      }
    }
  },
  "nbformat": 4,
  "nbformat_minor": 1,
  "cells": [
    {
      "execution_count": 0,
      "cell_type": "code",
      "metadata": {},
      "source": [
        "import dataiku\n",
        "import pandas as pd"
      ],
      "outputs": []
    },
    {
      "execution_count": 0,
      "cell_type": "code",
      "metadata": {},
      "source": [
        "client \u003d dataiku.api_client()\n",
        "users \u003d client.list_users()\n",
        "user_data \u003d []"
      ],
      "outputs": []
    },
    {
      "execution_count": 0,
      "cell_type": "code",
      "metadata": {},
      "source": [
        "for i in users:\n",
        "    myuser \u003d client.get_user(i[\u0027login\u0027])\n",
        "    \n",
        "    user_data.append({\n",
        "        \"Display name\": i.get(\u0027displayName\u0027, \u0027\u0027),\n",
        "        \"Last successful login\": str(myuser.get_activity().last_successful_login),\n",
        "        \"Last session activity\": str(myuser.get_activity().last_session_activity),\n",
        "        \u0027Profile\u0027:i.get(\u0027userProfile\u0027,\u0027\u0027),\n",
        "        \u0027Trial Status\u0027:i.get(\u0027trialStatus\u0027,\u0027\u0027),\n",
        "        \"Groups\": \", \".join(i.get(\u0027groups\u0027, [])),\n",
        "        \"User creation date\": str(myuser.get_settings().creation_date),\n",
        "        \"Type\": i.get(\u0027sourceType\u0027, \u0027\u0027),\n",
        "        \"Email\": i.get(\u0027email\u0027, \u0027N/A\u0027),\n",
        "        \"Login name\": i.get(\u0027login\u0027, \u0027\u0027),\n",
        "    })"
      ],
      "outputs": []
    },
    {
      "execution_count": 0,
      "cell_type": "code",
      "metadata": {},
      "source": [
        "df \u003d pd.DataFrame(user_data).sort_values(by\u003d[\"Last session activity\", \"Last successful login\"], ascending\u003dFalse)"
      ],
      "outputs": []
    },
    {
      "execution_count": 0,
      "cell_type": "code",
      "metadata": {},
      "source": [
        "df[\"Last successful login\"] \u003d pd.to_datetime(df[\"Last successful login\"], errors\u003d\u0027coerce\u0027).dt.tz_localize(None)\n",
        "df[\"Last session activity\"] \u003d pd.to_datetime(df[\"Last session activity\"], errors\u003d\u0027coerce\u0027).dt.tz_localize(None)\n",
        "now \u003d pd.Timestamp.now().tz_localize(None)\n",
        "df[\"Most recent activity\"] \u003d df[[\"Last successful login\", \"Last session activity\"]].max(axis\u003d1)\n",
        "df[\"Time since last activity\"] \u003d now - df[\"Most recent activity\"]"
      ],
      "outputs": []
    },
    {
      "execution_count": 0,
      "cell_type": "code",
      "metadata": {},
      "source": [
        "def format_timedelta(td):\n",
        "    if pd.isna(td):\n",
        "        return \"N/A\"\n",
        "    seconds \u003d int(td.total_seconds())\n",
        "    days, seconds \u003d divmod(seconds, 86400)\n",
        "    hours, seconds \u003d divmod(seconds, 3600)\n",
        "    minutes, seconds \u003d divmod(seconds, 60)\n",
        "\n",
        "    parts \u003d []\n",
        "    if days \u003e 0:\n",
        "        parts.append(f\"{days} day{\u0027s\u0027 if days !\u003d 1 else \u0027\u0027}\")\n",
        "    if hours \u003e 0:\n",
        "        parts.append(f\"{hours} hour{\u0027s\u0027 if hours !\u003d 1 else \u0027\u0027}\")\n",
        "    if minutes \u003e 0:\n",
        "        parts.append(f\"{minutes} minute{\u0027s\u0027 if minutes !\u003d 1 else \u0027\u0027}\")\n",
        "    if not parts:\n",
        "        parts.append(f\"{seconds} second{\u0027s\u0027 if seconds !\u003d 1 else \u0027\u0027}\")\n",
        "    \n",
        "    return \", \".join(parts)\n",
        "\n",
        "df[\"Time since last activity\"] \u003d df[\"Time since last activity\"].apply(format_timedelta)"
      ],
      "outputs": []
    },
    {
      "execution_count": 0,
      "cell_type": "code",
      "metadata": {},
      "source": [
        "df \u003d df[~df[\u0027Login name\u0027].str.endswith(\u0027@dataiku.com\u0027, na\u003dFalse)]"
      ],
      "outputs": []
    },
    {
      "execution_count": 0,
      "cell_type": "code",
      "metadata": {},
      "source": [
        "priority_columns \u003d [\"Display name\", \"Time since last activity\"]\n",
        "other_columns \u003d [col for col in df.columns if col not in priority_columns]\n",
        "df \u003d df[priority_columns + other_columns]\n",
        "df"
      ],
      "outputs": []
    },
    {
      "execution_count": 0,
      "cell_type": "code",
      "metadata": {},
      "source": [
        "# Recipe outputs\n",
        "# users_profiles_trialstatus_groups \u003d dataiku.Dataset(\"Users_Profiles_TrialStatus_Groups\")\n",
        "# users_profiles_trialstatus_groups.write_with_schema(df)"
      ],
      "outputs": []
    }
  ]
}