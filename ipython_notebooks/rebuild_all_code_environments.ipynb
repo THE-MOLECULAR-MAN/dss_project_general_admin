{
  "metadata": {
    "hide_input": false,
    "kernelspec": {
      "name": "py-dku-venv-dash",
      "display_name": "Python (env dash)",
      "language": "python"
    },
    "language_info": {
      "name": "python",
      "version": "3.9.21",
      "mimetype": "text/x-python",
      "codemirror_mode": {
        "name": "ipython",
        "version": 3
      },
      "pygments_lexer": "ipython3",
      "nbconvert_exporter": "python",
      "file_extension": ".py"
    },
    "creationTag": {
      "lastModifiedBy": {
        "login": "demo"
      },
      "lastModifiedOn": 1751312186828,
      "versionNumber": 0
    },
    "modifiedBy": "demo",
    "creator": "demo",
    "customFields": {},
    "dkuGit": {
      "lastInteraction": 1756906848971,
      "gitReference": {
        "remote": "git@github.com:THE-MOLECULAR-MAN/dss_private.git",
        "checkout": "main",
        "remotePath": "admin/rebuild_all_code_environments.ipynb",
        "remoteLogin": "",
        "lastHash": "19311061565e9449682d8d5e9100de7bb01194db",
        "lastTimestamp": 1756906681000,
        "isDirty": false
      }
    },
    "tags": [
      "recipe-editor"
    ],
    "associatedRecipe": "compute_null",
    "createdOn": 1751312186828
  },
  "nbformat": 4,
  "nbformat_minor": 1,
  "cells": [
    {
      "execution_count": 0,
      "cell_type": "code",
      "metadata": {},
      "source": [
        "import os\nimport dataiku\nfrom concurrent.futures import ThreadPoolExecutor"
      ],
      "outputs": []
    },
    {
      "execution_count": 0,
      "cell_type": "code",
      "metadata": {},
      "source": [
        "# Configuration\nforce_rebuild_env \u003d True"
      ],
      "outputs": []
    },
    {
      "execution_count": 0,
      "cell_type": "code",
      "metadata": {},
      "source": [
        "client \u003d dataiku.api_client()\ncode_envs \u003d client.list_code_envs()\n\nfailed_builds \u003d set()\nsuccessful_builds \u003d set()"
      ],
      "outputs": []
    },
    {
      "execution_count": 0,
      "cell_type": "code",
      "metadata": {},
      "source": [
        "def _process_code_env(code_env_info):\n    try:\n        client \u003d dataiku.api_client()\n        envName \u003d code_env_info[\u0027envName\u0027]\n        code_env \u003d client.get_code_env(code_env_info[\u0027envLang\u0027], envName)\n\n        # rebuild it\n        # print(f\u0027Starting rebuilding {envName} ...\u0027)\n        env_path \u003d os.path.join(\u0027/data/dataiku/dss_data/code-envs/python\u0027, envName)\n\n        res \u003d code_env.update_packages(force_rebuild_env\u003dforce_rebuild_env)\n\n        if not res[\u0027messages\u0027][\u0027success\u0027]:\n            print(f\"FAILED: {envName}\")\n            failed_builds.add(envName)\n            print(res)\n        else:\n            successful_builds.add(envName)\n\n    except Exception as e:\n        try:\n            if not force_rebuild_env:\n                print(f\u0027Failed to build {envName} without force rebuild, trying again with force rebuild...\u0027)\n                res \u003d code_env.update_packages(force_rebuild_env\u003dTrue)\n                print(f\u0027SUCCESS when force rebuilding {envName}\u0027)\n                pass\n        except Exception as e:\n            print(f\"Still failed to build {envName} after force rebuild:\\n   {e}\")\n            failed_builds.add(envName) # potential bug where this doesn\u0027t happen, should use a finally clause\n            pass"
      ],
      "outputs": []
    },
    {
      "execution_count": 0,
      "cell_type": "code",
      "metadata": {},
      "source": [
        "max_workers \u003d 2 # os.cpu_count() or 1 # can run out of disk space if running too many simultaneous\nwith ThreadPoolExecutor(max_workers\u003dmax_workers) as executor:\n    executor.map(_process_code_env, code_envs)"
      ],
      "outputs": []
    },
    {
      "execution_count": 0,
      "cell_type": "code",
      "metadata": {},
      "source": [
        "if len(failed_builds) \u003e 0:\n    failed_str \u003d \"\\n\".join(sorted(failed_builds, key\u003dstr.lower))\n    \n    print(f\"\\n\\n\\nEnvironments that failed to build:\\n\\n{failed_str}\")\n\nprint(\u0027\\n\\n\\nFinished rebuilding code environments from scratch\u0027)"
      ],
      "outputs": []
    },
    {
      "execution_count": 0,
      "cell_type": "code",
      "metadata": {},
      "source": [
        "successful_builds"
      ],
      "outputs": []
    }
  ]
}