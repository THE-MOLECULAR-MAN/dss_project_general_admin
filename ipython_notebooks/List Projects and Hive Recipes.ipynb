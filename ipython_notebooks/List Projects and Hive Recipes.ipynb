{
  "metadata": {
    "kernelspec": {
      "name": "python3",
      "display_name": "Python 3 (ipykernel)",
      "language": "python"
    },
    "hide_input": false,
    "language_info": {
      "name": "python",
      "version": "3.9.21",
      "mimetype": "text/x-python",
      "codemirror_mode": {
        "name": "ipython",
        "version": 3
      },
      "pygments_lexer": "ipython3",
      "nbconvert_exporter": "python",
      "file_extension": ".py"
    },
    "creator": "demo",
    "modifiedBy": "demo",
    "createdOn": 1756999673948,
    "customFields": {},
    "tags": []
  },
  "nbformat": 4,
  "nbformat_minor": 1,
  "cells": [
    {
      "execution_count": 0,
      "cell_type": "code",
      "metadata": {},
      "source": [
        "from datetime import datetime\n\nimport dataiku\nimport pandas as pd\nimport pprint\n\nfrom io import StringIO\nfrom IPython.display import FileLink\n\n# Connect to the DSS instance\nclient \u003d dataiku.api_client()\nproject \u003d client.get_default_project()"
      ],
      "outputs": []
    },
    {
      "execution_count": 0,
      "cell_type": "code",
      "metadata": {},
      "source": [
        "# Prepare a list to store results\nproject_info \u003d []\n\n# Iterate over all projects\nprojects \u003d client.list_project_keys()\n\nfor project_key in projects:\n    try:\n        project \u003d client.get_project(project_key)\n        \n        # Get project metadata to extract owner information\n        project_metadata \u003d project.get_metadata()\n        project_summary \u003d project.get_summary()\n        last_modified_timestamp \u003d project_summary.get(\u0027versionTag\u0027, None).get(\u0027lastModifiedOn\u0027, None)\n        if last_modified_timestamp:\n            last_modified_date \u003d datetime.fromtimestamp(last_modified_timestamp / 1000).strftime(\u0027%Y-%m-%d %H:%M:%S\u0027)\n        else:\n            last_modified_date \u003d \u0027unknown_date\u0027\n        \n        # Get the list of recipes in the project\n        recipes \u003d project.list_recipes()\n        \n        # Count the number of Hive recipes\n        hive_recipes \u003d [recipe for recipe in recipes if recipe[\u0027type\u0027].lower() \u003d\u003d \u0027hive\u0027]\n        hive_count \u003d len(hive_recipes)\n        \n        dataset_types \u003d set()\n        \n        for d in  project.list_datasets():\n            dataset_types.add(d.get(\u0027type\u0027))\n            \n        recipe_types \u003d set()\n        for r in  project.list_recipes():\n            recipe_types.add(r.get(\u0027type\u0027))\n        \n        # Append the result to the list\n        project_info.append({\n            \u0027PROJECT_KEY\u0027: project_key, \n            \u0027NUMBER_OF_HIVE_RECIPES_USED_IN_THIS_PROJECT\u0027: hive_count,\n            \u0027Dataset_types_used_in_project\u0027: dataset_types,\n            \u0027Owner\u0027: project.get_permissions().get(\u0027owner\u0027, \u0027unknown owner\u0027),\n            \u0027DATE_PROJECT_WAS_LAST_MODIFIED\u0027: last_modified_date,\n            \u0027Recipe_types_used_in_project\u0027: recipe_types,\n        })\n    except Exception as e:\n        print(f\"Error processing project {project_key}: {str(e)}\")\n\n# Create a Pandas DataFrame with the results\ndf \u003d pd.DataFrame(project_info)\ndf\n\n# click EXPORT THIS DATAFRAME button below."
      ],
      "outputs": []
    }
  ]
}