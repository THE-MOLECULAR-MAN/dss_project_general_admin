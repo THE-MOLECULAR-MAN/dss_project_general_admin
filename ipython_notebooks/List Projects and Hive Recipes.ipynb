{
  "metadata": {
    "kernelspec": {
      "name": "python3",
      "display_name": "Python 3 (ipykernel)",
      "language": "python"
    },
    "hide_input": false,
    "language_info": {
      "name": "python",
      "version": "3.9.21",
      "mimetype": "text/x-python",
      "codemirror_mode": {
        "name": "ipython",
        "version": 3
      },
      "pygments_lexer": "ipython3",
      "nbconvert_exporter": "python",
      "file_extension": ".py"
    },
    "creator": "demo",
    "createdOn": 1756999673948,
    "customFields": {},
    "tags": [],
    "modifiedBy": "demo"
  },
  "nbformat": 4,
  "nbformat_minor": 1,
  "cells": [
    {
      "execution_count": 0,
      "cell_type": "code",
      "metadata": {},
      "source": [
        "import dataiku\nimport pandas as pd\n\n# Connect to the DSS instance\nclient \u003d dataiku.api_client()\n"
      ],
      "outputs": []
    },
    {
      "execution_count": 0,
      "cell_type": "code",
      "metadata": {},
      "source": [
        "# Prepare a list to store results\nproject_hive_counts \u003d []\n\n# Iterate over all projects\nprojects \u003d client.list_project_keys()\nfor project_key in projects:\n    project \u003d client.get_project(project_key)\n    \n    # Get project metadata to extract owner information\n    project_metadata \u003d project.get_metadata()\n    \n    # Get the owner - this will check the owner field in metadata\n    owner \u003d project_metadata.get(\u0027owner\u0027, \u0027\u0027)\n    \n    # Get the owner\u0027s email - you might need to fetch from users API if available\n    if owner:\n        try:\n            # Try to get user details from the client\n            user_details \u003d client.get_user(owner)\n            owner_email \u003d user_details.get(\u0027email\u0027, \u0027\u0027)\n        except:\n            # If we can\u0027t get user details, use the username as fallback\n            owner_email \u003d f\"{owner}@example.com\"  # Fallback pattern, replace with actual domain\n    else:\n        owner_email \u003d \"\"\n    \n    # Get the list of recipes in the project\n    recipes \u003d project.list_recipes()\n    \n    # Count the number of Hive recipes\n    hive_count \u003d sum(1 for recipe in recipes if recipe[\u0027type\u0027] \u003d\u003d \u0027Hive\u0027)\n\n    # Append the result to the list\n    project_hive_counts.append({\n        \u0027PROJECT_KEY\u0027: project_key, \n        \u0027NUMBER_OF_HIVE_RECIPES_USED_IN_THIS_PROJECT\u0027: hive_count,\n        \u0027PROJECT_OWNER_EMAIL\u0027: owner_email\n    })\n\n# Create a Pandas DataFrame with the results\ndf \u003d pd.DataFrame(project_hive_counts)\n\ndf.sort_values(by\u003d\"hive_recipe_count\", ascending\u003dFalse)"
      ],
      "outputs": []
    },
    {
      "execution_count": 0,
      "cell_type": "code",
      "metadata": {},
      "source": [
        ""
      ],
      "outputs": []
    },
    {
      "execution_count": 0,
      "cell_type": "code",
      "metadata": {},
      "source": [
        ""
      ],
      "outputs": []
    }
  ]
}