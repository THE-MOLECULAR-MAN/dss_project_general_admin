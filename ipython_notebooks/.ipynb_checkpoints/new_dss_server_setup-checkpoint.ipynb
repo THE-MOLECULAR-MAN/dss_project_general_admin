{
  "metadata": {
    "kernelspec": {
      "display_name": "Python 3",
      "language": "python",
      "name": "python3"
    },
    "language_info": {
      "codemirror_mode": {
        "name": "ipython",
        "version": 3
      },
      "file_extension": ".py",
      "mimetype": "text/x-python",
      "name": "python",
      "nbconvert_exporter": "python",
      "pygments_lexer": "ipython3",
      "version": "3.11.13"
    },
    "dkuGit": {
      "lastInteraction": 1756906848957,
      "gitReference": {
        "remote": "git@github.com:THE-MOLECULAR-MAN/dss_private.git",
        "checkout": "main",
        "remotePath": "admin/new_dss_server_setup.ipynb",
        "remoteLogin": "",
        "lastHash": "19311061565e9449682d8d5e9100de7bb01194db",
        "lastTimestamp": 1756906681000,
        "isDirty": false
      }
    },
    "creator": "demo",
    "createdOn": 1756906848955,
    "tags": [],
    "customFields": {},
    "modifiedBy": "demo"
  },
  "nbformat": 4,
  "nbformat_minor": 5,
  "cells": [
    {
      "cell_type": "markdown",
      "metadata": {},
      "source": [
        "# Install dependencies if needed"
      ]
    },
    {
      "execution_count": 0,
      "cell_type": "code",
      "metadata": {},
      "source": [
        "# ! python3.11 -m pip install dataiku-api-client"
      ],
      "outputs": []
    },
    {
      "cell_type": "markdown",
      "metadata": {},
      "source": [
        "# Imports"
      ]
    },
    {
      "execution_count": 0,
      "cell_type": "code",
      "metadata": {},
      "source": [
        "import re\n",
        "import json\n",
        "# from concurrent.futures import ThreadPoolExecutor\n",
        "# import os\n",
        "# from datetime import datetime\n",
        "# import copy\n",
        "\n",
        "from dataikuapi.dssclient import DSSClient\n",
        "from dataikuapi.utils import DataikuException"
      ],
      "outputs": []
    },
    {
      "cell_type": "markdown",
      "metadata": {},
      "source": [
        "# Configuration"
      ]
    },
    {
      "execution_count": 0,
      "cell_type": "code",
      "metadata": {},
      "source": [
        "DSS_URL \u003d \"https://honker-design.amer.dataiku-sandbox.io/\"\n",
        "\n",
        "# TODO: move to secrets or file.\n",
        "DSS_API_KEY \u003d \"dkuaps-lpotwE2wzcZKD11pwiX4wXZCRELKnOOj\"  # Replace with your actual API key\n",
        "\n",
        "PLUGINS_TO_INSTALL \u003d [\n",
        "    \"google-search-tool\",\n",
        "    \"nlp-analysis\",\n",
        "    \"nlp-preparation\",\n",
        "    \"timeseries-preparation\",\n",
        "    \"govern\",\n",
        "    \"sql-question-answering-tool\",\n",
        "    \"graphrag\",\n",
        "    \"agent-connect\",\n",
        "    \"traces-explorer\",\n",
        "    \"api-connect\"\n",
        "]\n",
        "\n",
        "TOP_LEVEL_FOLDERS_TO_CREATE \u003d [\"Administrative\", \"Demo\", \"Personal\"]\n",
        "\n",
        "INTERNAL_CODE_ENVS_TO_CREATE \u003d {\n",
        "    \"DEEP_HUB_IMAGE_CLASSIFICATION_CODE_ENV\": \"INTERNAL_image_classification_v1\",\n",
        "    \"DEEP_HUB_IMAGE_OBJECT_DETECTION_CODE_ENV\": \"INTERNAL_object_detection_v1\",\n",
        "    \"PII_DETECTION_CODE_ENV\": \"INTERNAL_pii_detection_v1\",\n",
        "    \"HUGGINGFACE_LOCAL_CODE_ENV\": \"INTERNAL_huggingface_local_v1\",\n",
        "    \"RAG_CODE_ENV\": \"INTERNAL_retrieval_augmented_generation_v1\",\n",
        "    \"DOCUMENT_EXTRACTION_CODE_ENV\": \"INTERNAL_document_extraction_v1\",\n",
        "}\n",
        "\n",
        "client \u003d DSSClient(DSS_URL, DSS_API_KEY)"
      ],
      "outputs": []
    },
    {
      "cell_type": "markdown",
      "metadata": {},
      "source": [
        "# Function definitions"
      ]
    },
    {
      "execution_count": 0,
      "cell_type": "code",
      "metadata": {},
      "source": [
        "# https://developer.dataiku.com/latest/api-reference/python/client.html#dataikuapi.DSSClient.install_plugin_from_store\n",
        "\n",
        "def get_installed_plugin_names(client):\n",
        "    try:\n",
        "        installed_plugins \u003d client.list_plugins()\n",
        "        return set(plugin[\u0027id\u0027] for plugin in installed_plugins)\n",
        "    except DataikuException as e:\n",
        "        print(f\"Error retrieving installed plugins: {str(e)}\")\n",
        "        return set()\n",
        "    \n",
        "def get_installed_code_env_names(client):\n",
        "    try:\n",
        "        installed_code_envs \u003d client.list_code_envs()\n",
        "        return set(env[\u0027envName\u0027] for env in installed_code_envs)\n",
        "    except DataikuException as e:\n",
        "        print(f\"Error retrieving installed code environments: {str(e)}\")\n",
        "        return set()\n",
        "\n",
        "def is_plugin_installed(client, plugin_id):\n",
        "    #installed_plugins \u003d client.list_plugins()\n",
        "    #return any(plugin[\u0027id\u0027] \u003d\u003d plugin_id for plugin in installed_plugins)\n",
        "    return plugin_id in get_installed_plugin_names(client)\n",
        "\n",
        "    \n",
        "def install_plugin(client, plugin_id):\n",
        "    print(f\"Attempting to install plugin: {plugin_id}\")\n",
        "    try:\n",
        "        client.install_plugin_from_store(plugin_id)\n",
        "    except Exception as e:\n",
        "        print(f\"Error installing plugin {plugin_id}: {e}\")\n",
        "\n",
        "    \n",
        "def get_plugin_code_env_name(client, plugin):\n",
        "    try:\n",
        "        plugin_details \u003d client.get_plugin(plugin).get_settings().get_raw()\n",
        "        # print(json.dumps(plugin_details, indent\u003d4))\n",
        "        return plugin_details.get(\u0027codeEnvName\u0027, None)\n",
        "    except DataikuException as e:\n",
        "        print(f\"Error retrieving code environment name for plugin {plugin}: {str(e)}\")\n",
        "        return None\n",
        "\n",
        "def does_code_env_exist(client, env_name):\n",
        "    try:\n",
        "        # existing_code_envs \u003d client.list_code_envs()\n",
        "        # return any(env.get(\u0027envName\u0027, \u0027\u0027) \u003d\u003d env_name for env in existing_code_envs)\n",
        "        return env_name in get_installed_code_env_names(client)\n",
        "    except DataikuException as e:\n",
        "        print(f\"Error checking for code environment {env_name}: {str(e)}\")\n",
        "        return False\n",
        "\n",
        "def install_plugin_code_env(client, plugin_name):\n",
        "    try:\n",
        "        ce_name \u003d get_plugin_code_env_name(client, plugin_name)\n",
        "        #print(f\"install_plugin_code_env: alpha ce_name: {ce_name}\")\n",
        "        if ce_name:\n",
        "            #print(f\"install_plugin_code_env: beta\")\n",
        "            if does_code_env_exist(client, ce_name):\n",
        "                #print(f\"install_plugin_code_env: gamma exists ce_name: {ce_name}. Returning \u0027None\u0027\")\n",
        "                return None\n",
        "        plugin \u003d client.get_plugin(plugin_name)\n",
        "        # Start creating the code env, and wait for it to be done\n",
        "        print(f\"Starting to build code env for plugin {plugin_name}...\")\n",
        "        future \u003d plugin.create_code_env()\n",
        "        creation \u003d future.wait_for_result()\n",
        "        print(f\"Finished code env for plugin {plugin_name}.\")\n",
        "        env_name \u003d creation[\"envName\"]\n",
        "        # set it as the current plugin code env\n",
        "        settings \u003d plugin.get_settings()\n",
        "        settings.set_code_env(env_name)\n",
        "        settings.save()\n",
        "\n",
        "    except DataikuException as e:\n",
        "        print(f\"{plugin_name} doesn\u0027t seem to require a code env\")\n",
        "        return None"
      ],
      "outputs": []
    },
    {
      "execution_count": 0,
      "cell_type": "code",
      "metadata": {},
      "source": [
        "install_plugin_code_env(client, \u0027agent-connect\u0027)"
      ],
      "outputs": []
    },
    {
      "cell_type": "markdown",
      "metadata": {},
      "source": [
        "# Create Project Folders"
      ]
    },
    {
      "execution_count": 0,
      "cell_type": "code",
      "metadata": {},
      "source": [
        "root_folder \u003d client.get_root_project_folder()\n",
        "\n",
        "# Function to create project folders\n",
        "def create_dss_project_top_level_folder(folder_name):\n",
        "    try:\n",
        "        # check if the folder already exists\n",
        "        existing_folders \u003d root_folder.list_child_folders()\n",
        "        if folder_name in [folder.name for folder in existing_folders]:\n",
        "            print(f\"Folder \u0027{folder_name}\u0027 already exists.\")\n",
        "            return\n",
        "        new_folder \u003d root_folder.create_sub_folder(folder_name)\n",
        "        print(f\"Folder \u0027{folder_name}\u0027 created successfully.\")\n",
        "    except Exception as e:\n",
        "        print(f\"Failed to create folder \u0027{folder_name}\u0027: {str(e)}\")\n",
        "\n",
        "# Create specified project folders\n",
        "for name in TOP_LEVEL_FOLDERS_TO_CREATE:\n",
        "    create_dss_project_top_level_folder(name)"
      ],
      "outputs": []
    },
    {
      "cell_type": "markdown",
      "metadata": {},
      "source": [
        "# Install plugins and their code environments"
      ]
    },
    {
      "execution_count": 0,
      "cell_type": "code",
      "metadata": {},
      "source": [
        "for plugin in PLUGINS_TO_INSTALL:\n",
        "    # test if the plugin is already installed\n",
        "    if is_plugin_installed(client, plugin):\n",
        "        print(f\"Plugin \u0027{plugin}\u0027 is already installed.\")\n",
        "    else:\n",
        "        install_plugin(client, plugin)\n",
        "    # it seems like there is NOT a reliable way to check if a plugin requires a code environment, and if so, what that code environment\u0027s name is\n",
        "    # it\u0027s inconsistent between plugins.\n",
        "    install_plugin_code_env(client, plugin)"
      ],
      "outputs": []
    },
    {
      "cell_type": "markdown",
      "metadata": {},
      "source": [
        "# Create internal code environments"
      ]
    },
    {
      "execution_count": 0,
      "cell_type": "code",
      "metadata": {},
      "source": [
        "# https://developer.dataiku.com/latest/api-reference/python/client.html#dataikuapi.DSSClient.create_internal_code_env\n",
        "\n",
        "for key, value in INTERNAL_CODE_ENVS_TO_CREATE.items():\n",
        "    if does_code_env_exist(client, value):\n",
        "        print(f\"Internal code environment \u0027{value}\u0027 already exists. Skipping creation.\")\n",
        "        continue\n",
        "    else:\n",
        "        print(f\"Internal code environment \u0027{value}\u0027 does not seem to exist, creating it.\")\n",
        "        client.create_internal_code_env(key)"
      ],
      "outputs": []
    },
    {
      "cell_type": "markdown",
      "metadata": {},
      "source": [
        "# Delete duplicated code environments"
      ]
    },
    {
      "execution_count": 0,
      "cell_type": "code",
      "metadata": {},
      "source": [
        "def delete_code_environments_with_pattern(client):\n",
        "    # Get a list of all code environments (focusing on Python environments)\n",
        "    code_envs \u003d client.list_code_envs()\n",
        "    \n",
        "    # Regular expression to match names ending with _# where # is a single digit\n",
        "    pattern \u003d re.compile(r\u0027_[0-9]$\u0027)\n",
        "    \n",
        "    print(f\"Found {len(code_envs)} code environments in total\")\n",
        "    deleted_count \u003d 0\n",
        "    \n",
        "    # Iterate through each code environment\n",
        "    for env in code_envs:\n",
        "        env_id \u003d env.get(\u0027envName\u0027)\n",
        "        env_type \u003d env.get(\u0027envLang\u0027, \u0027\u0027).upper()  # PYTHON, R, etc.\n",
        "        env_handle \u003d client.get_code_env(env_type, env_id)\n",
        "        \n",
        "        # Check if the environment name matches our pattern\n",
        "        if pattern.search(env_id):\n",
        "            # print(f\"Found matching environment: {env_id} (Type: {env_type})\")\n",
        "            try:\n",
        "                # Delete the environment\n",
        "                # Note: In the API, we need to specify the language (PYTHON, R, etc.)\n",
        "                # client.delete_code_env(env_type, env_id)\n",
        "                env_handle.delete()\n",
        "                print(f\"Successfully deleted environment: {env_id}\")\n",
        "                deleted_count +\u003d 1\n",
        "            except Exception as e:\n",
        "                print(f\"Error deleting environment {env_id}: {str(e)}\")\n",
        "        #else:\n",
        "        #    print(f\"Skipping environment: {env_id} (does not match pattern)\")\n",
        "    \n",
        "    print(f\"Successfully removed {deleted_count} duplicate code environments.\")\n",
        "\n",
        "delete_code_environments_with_pattern(client)"
      ],
      "outputs": []
    },
    {
      "execution_count": 0,
      "cell_type": "code",
      "metadata": {},
      "source": [
        "# TODO: set admin user to use Full Designer license\n",
        "# TODO: create a new code env that has old version of pandas\n",
        "# project setup: https://honker-design.amer.dataiku-sandbox.io/projects/SOL_DKU_MONITORING/setup\n"
      ],
      "outputs": []
    },
    {
      "cell_type": "markdown",
      "metadata": {},
      "source": [
        "# Perform sanity checks on instance"
      ]
    },
    {
      "execution_count": 0,
      "cell_type": "code",
      "metadata": {},
      "source": [
        "client.perform_instance_sanity_check()\n",
        "client.get_sanity_check_codes()"
      ],
      "outputs": []
    },
    {
      "execution_count": 0,
      "cell_type": "code",
      "metadata": {},
      "source": [
        "# Possible future additions\n",
        "# https://developer.dataiku.com/latest/api-reference/python/other-administration.html#dataikuapi.dss.admin.DSSGeneralSettings\n",
        "# client.create_connection()\n",
        "# client.create_user(login, password, display_name\u003d\u0027\u0027, source_type\u003d\u0027LOCAL\u0027, groups\u003dNone, profile\u003d\u0027DATA_SCIENTIST\u0027, email\u003dNone)"
      ],
      "outputs": []
    }
  ]
}