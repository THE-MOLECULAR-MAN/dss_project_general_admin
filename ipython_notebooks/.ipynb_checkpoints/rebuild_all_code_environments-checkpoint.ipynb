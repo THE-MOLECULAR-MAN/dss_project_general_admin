{
  "metadata": {
    "hide_input": false,
    "kernelspec": {
      "name": "py-dku-venv-default_rag_environment",
      "display_name": "Python (env Default_RAG_Environment)",
      "language": "python"
    },
    "language_info": {
      "name": "python",
      "version": "3.9.21",
      "mimetype": "text/x-python",
      "codemirror_mode": {
        "name": "ipython",
        "version": 3
      },
      "pygments_lexer": "ipython3",
      "nbconvert_exporter": "python",
      "file_extension": ".py"
    },
    "createdOn": 1751312186828,
    "customFields": {},
    "creationTag": {
      "lastModifiedBy": {
        "login": "demo"
      },
      "lastModifiedOn": 1751312186828,
      "versionNumber": 0
    },
    "tags": [
      "recipe-editor"
    ],
    "associatedRecipe": "compute_null",
    "creator": "demo",
    "dkuGit": {
      "lastInteraction": 1756906848971,
      "gitReference": {
        "remote": "git@github.com:THE-MOLECULAR-MAN/dss_private.git",
        "checkout": "main",
        "remotePath": "admin/rebuild_all_code_environments.ipynb",
        "remoteLogin": "",
        "lastHash": "19311061565e9449682d8d5e9100de7bb01194db",
        "lastTimestamp": 1756906681000,
        "isDirty": false
      }
    },
    "modifiedBy": "demo"
  },
  "nbformat": 4,
  "nbformat_minor": 1,
  "cells": [
    {
      "execution_count": 0,
      "cell_type": "code",
      "metadata": {},
      "source": [
        "import os\nimport json\nimport dataiku\nimport os\nfrom concurrent.futures import ThreadPoolExecutor"
      ],
      "outputs": []
    },
    {
      "execution_count": 0,
      "cell_type": "code",
      "metadata": {},
      "source": [
        "# [dataiku@honker-design-2 ~]$ du -sh ~/.cache/pip ~/dss_data/code-envs/\n# 23G\t/data/dataiku/.cache/pip\n# 41G\t/data/dataiku/dss_data/code-envs/"
      ],
      "outputs": []
    },
    {
      "execution_count": 0,
      "cell_type": "code",
      "metadata": {},
      "source": [
        "client \u003d dataiku.api_client()\ncode_envs \u003d client.list_code_envs()\n# sum_size_before_bytes \u003d 0\n# sum_size_after_bytes \u003d 0\nfailed_builds \u003d []\n\nforce_rebuild_env \u003d False"
      ],
      "outputs": []
    },
    {
      "execution_count": 0,
      "cell_type": "code",
      "metadata": {},
      "source": [
        "def get_directory_size(path):\n    total_size \u003d 0\n    for dirpath, dirnames, filenames in os.walk(path, followlinks\u003dFalse):\n        for filename in filenames:\n            file_path \u003d os.path.join(dirpath, filename)\n            try:\n                if not os.path.islink(file_path):  # skip symlinks\n                    total_size +\u003d os.path.getsize(file_path)\n            except FileNotFoundError:\n                continue\n    return total_size\n\ndef human_readable_size(size_bytes):\n    for unit in [\u0027B\u0027, \u0027KB\u0027, \u0027MB\u0027, \u0027GB\u0027, \u0027TB\u0027, \u0027PB\u0027]:\n        if size_bytes \u003c 1024:\n            return f\"{size_bytes:.2f} {unit}\"\n        size_bytes /\u003d 1024\n    return f\"{size_bytes:.2f} EB\"\n\ndef _process_code_env(code_env_info):\n    try:\n        client \u003d dataiku.api_client()\n        envName \u003d code_env_info[\u0027envName\u0027]\n        code_env \u003d client.get_code_env(code_env_info[\u0027envLang\u0027], envName)\n\n        # rebuild it from scratch\n        print(f\u0027Starting rebuilding {envName} ...\u0027)\n        env_path \u003d os.path.join(\u0027/data/dataiku/dss_data/code-envs/python\u0027, envName)\n\n#         size_before_bytes \u003d get_directory_size(env_path)\n        res \u003d code_env.update_packages(force_rebuild_env\u003dforce_rebuild_env)\n\n        if not res[\u0027messages\u0027][\u0027success\u0027]:\n            print(f\"FAILED: {envName}\")\n            failed_builds.append(envName)\n            print(res)\n#         else:\n#             size_after_bytes \u003d get_directory_size(env_path)\n#             print(f\"{envName} size before: {human_readable_size(size_before_bytes)}  Size after: {human_readable_size(size_after_bytes)}\\n\")\n#             sum_size_before_bytes +\u003d size_before_bytes\n#             sum_size_after_bytes  +\u003d size_after_bytes\n\n    except Exception as e:\n        print(f\"Exception in {envName}: {e}\")\n        failed_builds.append(envName)\n        pass"
      ],
      "outputs": []
    },
    {
      "execution_count": 0,
      "cell_type": "code",
      "metadata": {},
      "source": [
        "max_workers \u003d os.cpu_count() or 1\nwith ThreadPoolExecutor(max_workers\u003dmax_workers) as executor:\n    executor.map(_process_code_env, code_envs)\n\nif len(failed_builds) \u003e 0:\n    print(f\u0027Environments that failed to build: \\n{failed_builds}\u0027)\n\nprint(\u0027\\n\\n\\nFinished rebuilding all code environments from scratch\u0027)\n# \u0027\"nTotal size before: {human_readable_size(sum_size_before_bytes)\\n Total size after: {human_readable_size(sum_size_after_bytes)}\\nChange: {(sum_size_after_bytes-sum_size_before_bytes)/sum_size_before_bytes}%\u0027)"
      ],
      "outputs": []
    }
  ]
}