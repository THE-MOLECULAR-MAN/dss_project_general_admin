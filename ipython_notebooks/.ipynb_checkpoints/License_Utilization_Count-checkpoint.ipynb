{
  "metadata": {
    "kernelspec": {
      "name": "python3",
      "display_name": "Python 3 (ipykernel)",
      "language": "python"
    },
    "hide_input": false,
    "language_info": {
      "name": "python",
      "version": "3.9.21",
      "mimetype": "text/x-python",
      "codemirror_mode": {
        "name": "ipython",
        "version": 3
      },
      "pygments_lexer": "ipython3",
      "nbconvert_exporter": "python",
      "file_extension": ".py"
    },
    "tags": [],
    "createdOn": 1759514308154,
    "creator": "demo",
    "customFields": {},
    "modifiedBy": "demo"
  },
  "nbformat": 4,
  "nbformat_minor": 1,
  "cells": [
    {
      "execution_count": 0,
      "cell_type": "code",
      "metadata": {},
      "source": [
        "from utils import write_to_folder, write_to_file\n\nimport dataiku\nimport pandas as pd\nimport numpy as np"
      ],
      "outputs": []
    },
    {
      "execution_count": 0,
      "cell_type": "code",
      "metadata": {},
      "source": [
        "client \u003d dataiku.api_client()\nusers\u003dclient.list_users()"
      ],
      "outputs": []
    },
    {
      "execution_count": 0,
      "cell_type": "code",
      "metadata": {},
      "source": [
        "users_df \u003d pd.DataFrame(\n    users,\n    columns \u003d [\u0027login\u0027, \u0027sourceType\u0027, \u0027displayName\u0027, \u0027groups\u0027, \u0027email\u0027, \u0027userProfile\u0027, \u0027enabled\u0027]\n)\n\nwrite_to_file(users_df, \"users_combined_raw\")\n\n\n"
      ],
      "outputs": []
    },
    {
      "execution_count": 0,
      "cell_type": "code",
      "metadata": {},
      "source": [
        "# Example: load a DSS dataset as a Pandas dataframe\nmydataset \u003d dataiku.Dataset(\"mydataset\")\nmydataset_df \u003d mydataset.get_dataframe()"
      ],
      "outputs": []
    },
    {
      "execution_count": 0,
      "cell_type": "code",
      "metadata": {},
      "source": [
        "\u003dCONCAT(\"Readers: \", COUNTA(UNIQUE(FILTER(A:A, (F:F\u003d\"READER\")*(G:G\u003dTRUE)))), \" Data Scientists: \", COUNTA(UNIQUE(FILTER(A:A, (F:F\u003d\"DATA_SCIENTIST\")*(G:G\u003dTRUE)))), \" Data Analysts: \", COUNTA(UNIQUE(FILTER(A:A, (F:F\u003d\"DATA_ANALYST\")*(G:G\u003dTRUE)))))"
      ],
      "outputs": []
    }
  ]
}