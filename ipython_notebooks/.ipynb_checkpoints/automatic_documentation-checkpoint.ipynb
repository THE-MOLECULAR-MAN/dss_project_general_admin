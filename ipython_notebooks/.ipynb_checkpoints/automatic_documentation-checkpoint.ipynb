{
  "metadata": {
    "kernelspec": {
      "name": "python3",
      "display_name": "Python 3 (ipykernel)",
      "language": "python"
    },
    "hide_input": false,
    "language_info": {
      "name": "python",
      "version": "3.10.12",
      "mimetype": "text/x-python",
      "codemirror_mode": {
        "name": "ipython",
        "version": 3
      },
      "pygments_lexer": "ipython3",
      "nbconvert_exporter": "python",
      "file_extension": ".py"
    },
    "createdOn": 1761572597257,
    "customFields": {},
    "creator": "admin",
    "tags": [],
    "modifiedBy": "admin"
  },
  "nbformat": 4,
  "nbformat_minor": 1,
  "cells": [
    {
      "cell_type": "markdown",
      "metadata": {},
      "source": [
        "# Generate automatic documentation for individual project"
      ]
    },
    {
      "execution_count": 0,
      "cell_type": "code",
      "metadata": {},
      "source": [
        "import dataiku\nfrom dataiku import pandasutils as pdu\nimport pandas as pd"
      ],
      "outputs": []
    },
    {
      "execution_count": 0,
      "cell_type": "code",
      "metadata": {},
      "source": [
        "PROJECT_KEY \u003d \u0027TIM_HEALTH_DATA\u0027\nDATASET_ID \u003d \u0027Apple_Health_daily_summaries\u0027"
      ],
      "outputs": []
    },
    {
      "execution_count": 0,
      "cell_type": "code",
      "metadata": {},
      "source": [
        "client \u003d dataiku.api_client()\n# project \u003d client.get_project(PROJECT_KEY)\n# dataset_handle \u003d project.get_dataset(DATASET_ID)\n# dataset_handle.get_metadata()"
      ],
      "outputs": []
    },
    {
      "execution_count": 0,
      "cell_type": "code",
      "metadata": {},
      "source": [
        "# this blocks execution, no futures\n# dataset_handle.generate_ai_description(save_description\u003dTrue)"
      ],
      "outputs": []
    },
    {
      "execution_count": 0,
      "cell_type": "code",
      "metadata": {},
      "source": [
        "# reset the metadata on a dataset\nmd \u003d dataset_handle.get_metadata()\nmd[\u0027description\u0027] \u003d \u0027\u0027\ndataset_handle.set_metadata(md)\ndataset_handle.get_metadata()"
      ],
      "outputs": []
    },
    {
      "execution_count": 0,
      "cell_type": "code",
      "metadata": {},
      "source": [
        "def get_dataset_long_description(project_handle, dataset_id):\n    project \u003d client.get_project(PROJECT_KEY)\n    dataset_handle \u003d project.get_dataset(DATASET_ID)\n    dataset_metadata \u003d dataset_handle.get_metadata()\n    # dataset_settings \u003d dataset_handle.get_settings().get_raw()\n    # shortDesc\n    \ndef get_dataset_short_description(client, PROJECT_KEY, dataset_id):\n    dataset_handle \u003d project.get_dataset(DATASET_ID)\n\n\ndef dataset_has_full_documentation(client, PROJECT_KEY, dataset_id):\n    \"\"\"x\"\"\"\n    project \u003d client.get_project(PROJECT_KEY)\n    dataset_handle \u003d project.get_dataset(DATASET_ID)\n    dataset_metadata \u003d dataset_handle.get_metadata()\n    dataset_settings \u003d dataset_handle.get_settings().get_raw()\n    print(dataset_metadata)\n    print(dataset_settings)\n    if md[\u0027description\u0027] \u003d\u003d \u0027\u0027:\n        return False\n    \n    dataset_schema \u003d dataset_handle.get_schema()\n\n    for column in dataset_schema[\u0027columns\u0027]:\n        if column[\u0027comment\u0027] \u003d\u003d \u0027\u0027:\n            return False\n    \n    return True\n"
      ],
      "outputs": []
    },
    {
      "execution_count": 0,
      "cell_type": "code",
      "metadata": {},
      "source": [
        "PROJECT_KEY \u003d \u0027TIM_HEALTH_DATA\u0027\nDATASET_ID \u003d \u0027Apple_Health_daily_summaries\u0027\n\nx \u003d dataset_has_full_documentation(client, PROJECT_KEY, DATASET_ID)\n\nprint(x)\n"
      ],
      "outputs": []
    },
    {
      "execution_count": 0,
      "cell_type": "code",
      "metadata": {},
      "source": [
        ""
      ],
      "outputs": []
    }
  ]
}