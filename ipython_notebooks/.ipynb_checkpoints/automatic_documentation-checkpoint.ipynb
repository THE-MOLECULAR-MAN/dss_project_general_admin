{
  "metadata": {
    "kernelspec": {
      "name": "python3",
      "display_name": "Python 3 (ipykernel)",
      "language": "python"
    },
    "hide_input": false,
    "language_info": {
      "name": "python",
      "version": "3.10.12",
      "mimetype": "text/x-python",
      "codemirror_mode": {
        "name": "ipython",
        "version": 3
      },
      "pygments_lexer": "ipython3",
      "nbconvert_exporter": "python",
      "file_extension": ".py"
    },
    "createdOn": 1761572597257,
    "customFields": {},
    "creator": "admin",
    "tags": [],
    "modifiedBy": "admin"
  },
  "nbformat": 4,
  "nbformat_minor": 1,
  "cells": [
    {
      "cell_type": "markdown",
      "metadata": {},
      "source": [
        "# Generate automatic documentation for datasets in a list of projects\n\nWritten by Tim Honker - Oct 2025"
      ]
    },
    {
      "execution_count": 0,
      "cell_type": "code",
      "metadata": {},
      "source": [
        "import dataiku\nfrom dataikuapi.utils import DataikuException\nfrom dataiku import pandasutils as pdu\nimport pandas as pd"
      ],
      "outputs": []
    },
    {
      "execution_count": 0,
      "cell_type": "code",
      "metadata": {},
      "source": [
        "def get_dataset_long_description(dataset_handle):\n    dataset_metadata \u003d dataset_handle.get_metadata()\n    try:\n        return dataset_metadata[\u0027description\u0027]\n    except KeyError:\n        return \u0027\u0027\n\n\ndef get_dataset_short_description(dataset_handle):\n    dataset_settings \u003d dataset_handle.get_settings().get_raw()\n    try:\n        return dataset_settings[\u0027shortDesc\u0027]\n    except KeyError:\n        return \u0027\u0027\n\n\ndef get_dataset_column_descriptions(dataset_handle):\n    dataset_schema \u003d dataset_handle.get_schema()\n    try:\n        return [item[\"comment\"] for item in dataset_schema[\u0027columns\u0027]]\n    except KeyError:\n        return \u0027\u0027\n\n\ndef dataset_has_full_documentation(project_handle, dataset_id):\n    \"\"\"x\"\"\"\n    # project_handle \u003d client.get_project(project_key)\n    dataset_handle \u003d project_handle.get_dataset(dataset_id)\n    \n    if not get_dataset_long_description(dataset_handle):\n        print(f\u0027Dataset {dataset_id} lacks full documentation because empty: Long Description\u0027)\n        return False\n    \n    if not get_dataset_short_description(dataset_handle):\n        print(f\u0027Dataset {dataset_id} lacks full documentation because empty: Short Description\u0027)\n        return False\n    \n    column_descriptions \u003d get_dataset_column_descriptions(dataset_handle)\n\n    if any(not s or not s.strip() for s in column_descriptions):\n        print(f\u0027Dataset {dataset_id} lacks full documentation because empty: Column descriptions\u0027)\n        return False\n    \n    print(f\u0027Dataset {dataset_id} has all description fields filled out.\u0027)\n    return True"
      ],
      "outputs": []
    },
    {
      "execution_count": 0,
      "cell_type": "code",
      "metadata": {},
      "source": [
        "client \u003d dataiku.api_client()\n\nfor project_key in [\u0027TIM_HEALTH_DATA\u0027, \u0027HONKER_GENERAL_DSS_ADMIN\u0027, \u0027DATAIKU_DOCUMENTATION_RAG\u0027, \u0027PERSONAL_AGENTIC\u0027]:\n    # print(f\"Starting loop on project key: {project_key}\")\n    project_handle \u003d client.get_project(project_key)\n\n    for dataset in project_handle.list_datasets():\n        dataset_id \u003d dataset[\u0027name\u0027]\n        # print(f\"Starting loop on dataset id: {dataset_id}\")\n        \n        dataset_handle \u003d project_handle.get_dataset(dataset_id)\n    \n        if not dataset_has_full_documentation(project_handle, dataset_id):\n            print(f\"Auto-generating documentation for dataset: {dataset_id}\")\n            \n            # tim_gcal_events\n            # DataikuException: com.dataiku.dip.exceptions.DKUSecurityRuntimeException: User \u0027admin\u0027 does not have credentials for plugin parameter \u0027\"PLUGIN\",\"google-calendar\",\"oauth-credentials\",\"Tim\",\"access_token\"\u0027\n\n            # this blocks execution, doesn\u0027t utilize Futures/JobID system\n            try:\n                x \u003d dataset_handle.generate_ai_description(save_description\u003dTrue)\n            except DataikuException:\n                print(f\"[ERROR] Failed to update dataset {dataset_id} in {project_key}\")\n\nprint(\"Successfully finished.\")"
      ],
      "outputs": []
    }
  ]
}