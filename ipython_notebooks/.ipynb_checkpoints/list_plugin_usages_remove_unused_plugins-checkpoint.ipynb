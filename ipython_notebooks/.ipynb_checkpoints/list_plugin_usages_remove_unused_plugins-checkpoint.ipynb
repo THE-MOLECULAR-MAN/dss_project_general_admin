{
  "metadata": {
    "kernelspec": {
      "name": "python3",
      "display_name": "Python 3 (ipykernel)",
      "language": "python"
    },
    "hide_input": false,
    "language_info": {
      "name": "python",
      "version": "3.9.21",
      "mimetype": "text/x-python",
      "codemirror_mode": {
        "name": "ipython",
        "version": 3
      },
      "pygments_lexer": "ipython3",
      "nbconvert_exporter": "python",
      "file_extension": ".py"
    },
    "modifiedBy": "demo",
    "customFields": {},
    "tags": [],
    "creator": "demo",
    "createdOn": 1756914223106,
    "dkuGit": {
      "lastInteraction": 1756994773914,
      "gitReference": {
        "remote": "git@github.com:THE-MOLECULAR-MAN/dss_private.git",
        "checkout": "refs/heads/main",
        "remotePath": "admin/list_plugin_usages_remove_unused_plugins.ipynb",
        "lastHash": "1bda82f57acb6beec437bf4607159b651d1d3fc2",
        "lastTimestamp": 1756994773000,
        "isDirty": false
      }
    }
  },
  "nbformat": 4,
  "nbformat_minor": 1,
  "cells": [
    {
      "execution_count": 0,
      "cell_type": "code",
      "metadata": {},
      "source": [
        "import os\nimport dataiku\nfrom dataiku import pandasutils as pdu\nimport pandas as pd"
      ],
      "outputs": []
    },
    {
      "execution_count": 0,
      "cell_type": "code",
      "metadata": {},
      "source": [
        "built_in_plugins \u003d {\u0027builtin-macros\u0027, \u0027local-r-dev-setup\u0027, \u0027default-samples\u0027, \u0027code-studio-blocks\u0027,\n                   \u0027colorbrewer-palettes\u0027, \u0027k8s-metrics-utils\u0027, \u0027eks-clusters\u0027}\n\nplugins_to_keep \u003d { \u0027google-search-tool\u0027,\n                    \u0027jira\u0027,\n                    \u0027microsoft-power-bi-v2\u0027,\n                    \u0027salesforce\u0027,\n                    \u0027servicenow\u0027,\n                    \u0027tableau-hyper-export\u0027,\n                  }"
      ],
      "outputs": []
    },
    {
      "execution_count": 0,
      "cell_type": "code",
      "metadata": {},
      "source": [
        "# Connect to Dataiku DSS\nclient \u003d dataiku.api_client()"
      ],
      "outputs": []
    },
    {
      "execution_count": 0,
      "cell_type": "code",
      "metadata": {},
      "source": [
        "# List all installed plugins\ninstalled_plugins \u003d client.list_plugins()\n\n# Initialize a list to collect results\nresults \u003d []\n\n# Iterate over the store plugins to collect required information\nfor plugin_info in installed_plugins:\n    plugin_id \u003d plugin_info[\u0027id\u0027]\n    \n    # Get plugin object\n    plugin \u003d client.get_plugin(plugin_id)\n    \n    # List plugin usages\n    usages \u003d plugin.list_usages().usages\n    usage_count \u003d len(usages)\n        \n    # Append the result\n    results.append({\n        \"Plugin ID\": plugin_id,\n        \"Usage Count\": usage_count,\n    })"
      ],
      "outputs": []
    },
    {
      "execution_count": 0,
      "cell_type": "code",
      "metadata": {},
      "source": [
        "df_results \u003d pd.DataFrame(results)\ndf_results.sort_values(by\u003d\u0027Usage Count\u0027, ascending\u003dFalse)"
      ],
      "outputs": []
    },
    {
      "execution_count": 0,
      "cell_type": "code",
      "metadata": {},
      "source": [
        "plugins_to_remove \u003d set(df_results.loc[df_results[\"Usage Count\"] \u003d\u003d 0, \"Plugin ID\"].astype(str).tolist()) - built_in_plugins - plugins_to_keep\nplugins_to_remove"
      ],
      "outputs": []
    },
    {
      "execution_count": 0,
      "cell_type": "code",
      "metadata": {},
      "source": [
        "for plugin_id_to_remove in plugins_to_remove:\n    plugin \u003d client.get_plugin(plugin_id_to_remove)\n    print(f\"Uninstalling plugin because it has 0 usages and is not built in: {plugin_id_to_remove}\")\n    future \u003d plugin.delete(force\u003dFalse)\n    future.wait_for_result()"
      ],
      "outputs": []
    },
    {
      "execution_count": 0,
      "cell_type": "code",
      "metadata": {},
      "source": [
        ""
      ],
      "outputs": []
    }
  ]
}