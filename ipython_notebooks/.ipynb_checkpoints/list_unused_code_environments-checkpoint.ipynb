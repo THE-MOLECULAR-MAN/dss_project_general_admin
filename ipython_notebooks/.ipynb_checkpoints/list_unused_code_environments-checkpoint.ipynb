{
  "metadata": {
    "hide_input": false,
    "kernelspec": {
      "name": "python3",
      "display_name": "Python 3 (ipykernel)",
      "language": "python"
    },
    "language_info": {
      "name": "python",
      "version": "3.9.21",
      "mimetype": "text/x-python",
      "codemirror_mode": {
        "name": "ipython",
        "version": 3
      },
      "pygments_lexer": "ipython3",
      "nbconvert_exporter": "python",
      "file_extension": ".py"
    },
    "creator": "demo",
    "tags": [
      "deleted-recipe-editor"
    ],
    "createdOn": 1751312186828,
    "modifiedBy": "demo",
    "customFields": {},
    "dkuGit": {
      "lastInteraction": 1756906848971,
      "gitReference": {
        "remote": "git@github.com:THE-MOLECULAR-MAN/dss_private.git",
        "checkout": "main",
        "remotePath": "admin/rebuild_all_code_environments.ipynb",
        "remoteLogin": "",
        "lastHash": "19311061565e9449682d8d5e9100de7bb01194db",
        "lastTimestamp": 1756906681000,
        "isDirty": false
      }
    },
    "creationTag": {
      "lastModifiedBy": {
        "login": "demo"
      },
      "lastModifiedOn": 1751312186828,
      "versionNumber": 0
    }
  },
  "nbformat": 4,
  "nbformat_minor": 1,
  "cells": [
    {
      "cell_type": "markdown",
      "metadata": {},
      "source": [
        "# list_unused_code_environments\nThis has been tested and validated on Dataiku DSS v14.1.2, running on Alma and Ubuntu Linux. It should work with the \"Python 3 (ipykernel)\" built-in code environment.\n\nWritten by Tim H - Sept 2025"
      ]
    },
    {
      "execution_count": 0,
      "cell_type": "code",
      "metadata": {},
      "source": [
        "import shutil\nimport glob\nimport os\nimport dataiku\nfrom concurrent.futures import ThreadPoolExecutor\nimport pandas as pd"
      ],
      "outputs": []
    },
    {
      "cell_type": "markdown",
      "metadata": {},
      "source": [
        "# Configuration"
      ]
    },
    {
      "execution_count": 0,
      "cell_type": "code",
      "metadata": {},
      "source": [
        "client \u003d dataiku.api_client()\ncode_envs \u003d client.list_code_envs()\n\ncode_env_usages \u003d []"
      ],
      "outputs": []
    },
    {
      "execution_count": 0,
      "cell_type": "code",
      "metadata": {},
      "source": [
        "def _process_code_env(code_env_info):\n    client \u003d dataiku.api_client()\n    envName \u003d code_env_info[\u0027envName\u0027]\n    code_env \u003d client.get_code_env(code_env_info[\u0027envLang\u0027], envName)\n    \n    usages \u003d code_env.list_usages()\n    print(usages)\n    if usages \u003d\u003d None:\n        count \u003d 0\n    else:\n        count \u003d len(usages)\n    code_env_usages.append({\u0027CodeEnvName\u0027: envName, \u0027NumUsages\u0027: count})"
      ],
      "outputs": []
    },
    {
      "execution_count": 0,
      "cell_type": "code",
      "metadata": {},
      "source": [
        "max_workers \u003d os.cpu_count() or 1\nwith ThreadPoolExecutor(max_workers\u003dmax_workers) as executor:\n    executor.map(_process_code_env, code_envs)\n    \nprint(\u0027\\nFinished.\u0027)"
      ],
      "outputs": []
    },
    {
      "execution_count": 0,
      "cell_type": "code",
      "metadata": {
        "scrolled": true
      },
      "source": [
        "df \u003d pd.DataFrame(code_env_usages).sort_values(by\u003d[\"NumUsages\", \"CodeEnvName\"], ascending\u003dFalse)"
      ],
      "outputs": []
    },
    {
      "execution_count": 0,
      "cell_type": "code",
      "metadata": {
        "scrolled": true
      },
      "source": [
        "df"
      ],
      "outputs": []
    }
  ]
}