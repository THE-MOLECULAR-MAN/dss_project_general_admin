{
  "metadata": {
    "createdOn": 1735679687076,
    "creator": "tim.honker@dataiku.com",
    "customFields": {},
    "hide_input": false,
    "kernelspec": {
      "display_name": "Python (env Default_RAG_Environment)",
      "language": "python",
      "name": "py-dku-venv-default_rag_environment"
    },
    "language_info": {
      "codemirror_mode": {
        "name": "ipython",
        "version": 3
      },
      "file_extension": ".py",
      "mimetype": "text/x-python",
      "name": "python",
      "nbconvert_exporter": "python",
      "pygments_lexer": "ipython3",
      "version": "3.9.20"
    },
    "modifiedBy": "tim.honker@dataiku.com",
    "tags": [],
    "versionNumber": 2,
    "dkuGit": {
      "lastInteraction": 1756906584256,
      "gitReference": {
        "remote": "git@github.com:THE-MOLECULAR-MAN/dss_private.git",
        "checkout": "main",
        "remotePath": "admin/list_dataset_connection_settings.ipynb",
        "remoteLogin": "",
        "lastHash": "bff3dd4953aa25023588eefba71b9b9f6a8dfc45",
        "lastTimestamp": 1755800954000,
        "isDirty": false
      }
    }
  },
  "nbformat": 4,
  "nbformat_minor": 1,
  "cells": [
    {
      "cell_type": "markdown",
      "metadata": {},
      "source": [
        "# Listing all dataset connections and some basic settings\n",
        "\n",
        "Useful for troubleshooting a migration of a DSS project between servers"
      ]
    },
    {
      "execution_count": 0,
      "cell_type": "code",
      "metadata": {},
      "source": [
        "import dataiku\n",
        "from dataiku import pandasutils as pdu\n",
        "import pandas as pd"
      ],
      "outputs": []
    },
    {
      "execution_count": 0,
      "cell_type": "code",
      "metadata": {},
      "source": [
        "client \u003d dataiku.api_client()\n",
        "project \u003d client.get_default_project()\n",
        "data \u003d project.list_datasets()"
      ],
      "outputs": []
    },
    {
      "execution_count": 0,
      "cell_type": "code",
      "metadata": {},
      "source": [
        "# data # used for viewing the structure, finding new fields to extract"
      ],
      "outputs": []
    },
    {
      "execution_count": 0,
      "cell_type": "code",
      "metadata": {},
      "source": [
        "extracted_data \u003d [\n",
        "    {\n",
        "        \u0027type\u0027: row.get(\u0027type\u0027),\n",
        "        \u0027name\u0027: row.get(\u0027name\u0027),\n",
        "        \u0027connection\u0027: row.get(\u0027params\u0027, {}).get(\u0027connection\u0027),\n",
        "        \u0027table\u0027: row.get(\u0027params\u0027, {}).get(\u0027table\u0027),\n",
        "        \u0027catalog\u0027: row.get(\u0027params\u0027, {}).get(\u0027catalog\u0027),\n",
        "        \u0027schema\u0027: row.get(\u0027params\u0027, {}).get(\u0027schema\u0027),\n",
        "        # get the schema too\n",
        "    }\n",
        "    for row in data\n",
        "]"
      ],
      "outputs": []
    },
    {
      "execution_count": 0,
      "cell_type": "code",
      "metadata": {},
      "source": [
        "df \u003d pd.DataFrame(extracted_data).sort_values(by\u003d\u0027connection\u0027)"
      ],
      "outputs": []
    },
    {
      "execution_count": 0,
      "cell_type": "code",
      "metadata": {},
      "source": [
        "df"
      ],
      "outputs": []
    }
  ]
}