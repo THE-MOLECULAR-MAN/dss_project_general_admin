{
  "metadata": {
    "kernelspec": {
      "name": "python3",
      "display_name": "Python 3 (ipykernel)",
      "language": "python"
    },
    "hide_input": false,
    "language_info": {
      "name": "python",
      "version": "3.9.21",
      "mimetype": "text/x-python",
      "codemirror_mode": {
        "name": "ipython",
        "version": 3
      },
      "pygments_lexer": "ipython3",
      "nbconvert_exporter": "python",
      "file_extension": ".py"
    },
    "customFields": {},
    "creator": "demo",
    "tags": [],
    "createdOn": 1759334566050,
    "modifiedBy": "demo"
  },
  "nbformat": 4,
  "nbformat_minor": 1,
  "cells": [
    {
      "execution_count": 0,
      "cell_type": "code",
      "metadata": {},
      "source": [
        "import dataiku\nfrom dataiku import pandasutils as pdu\nimport pandas as pd\n\nfrom datetime import datetime"
      ],
      "outputs": []
    },
    {
      "execution_count": 0,
      "cell_type": "code",
      "metadata": {},
      "source": [
        "client \u003d dataiku.api_client()"
      ],
      "outputs": []
    },
    {
      "execution_count": 0,
      "cell_type": "code",
      "metadata": {},
      "source": [
        "def get_project_description(client, project_key):\n    project \u003d client.get_project(project_key)\n    return project.get_metadata().get(\u0027description\u0027, \u0027\u0027)\n\ndef project_has_description(client, project_key):\n    desc \u003d get_project_description(client, project_key)\n    return not (desc is None or desc is \u0027\u0027)\n\n\n# Iterate over all projects\nfor project_key in client.list_project_keys():\n    try:\n        project \u003d client.get_project(project_key)\n        \n        # Get project metadata to get description\n        project_metadata \u003d project.get_metadata()\n        current_description \u003d project_metadata.get(\u0027description\u0027, \u0027\u0027)\n\n        if current_description is None or current_description is \u0027\u0027:\n            print(f\"Project {project_key} has no description.\")\n        else:\n            print(F\"Project {project_key}\u0027s current description:\\n{current_description}\\n\\n\")\n\n        #project_metadata[\u0027key\u0027] \u003d new_value\n        #project.set_metadata(project_metadata)\n        \n        \n        # display_name \u003d project_metadata.get(\u0027label\u0027, \u0027Unknown Project Name\u0027)\n        \n    except Exception as e:\n        print(f\"Error processing project {project_key}: {str(e)}\")\n"
      ],
      "outputs": []
    },
    {
      "execution_count": 0,
      "cell_type": "code",
      "metadata": {},
      "source": [
        "# for dataset in project.list_datasets():\n#     try:\n    \n#     except Exception as e:\n#         print(f\"Error processing dataset {dataset}: {str(e)}\")\n"
      ],
      "outputs": []
    }
  ]
}