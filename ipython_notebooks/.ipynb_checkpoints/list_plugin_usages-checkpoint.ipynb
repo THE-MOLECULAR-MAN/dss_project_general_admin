{
  "metadata": {
    "kernelspec": {
      "name": "python3",
      "display_name": "Python 3 (ipykernel)",
      "language": "python"
    },
    "hide_input": false,
    "language_info": {
      "name": "python",
      "version": "3.9.21",
      "mimetype": "text/x-python",
      "codemirror_mode": {
        "name": "ipython",
        "version": 3
      },
      "pygments_lexer": "ipython3",
      "nbconvert_exporter": "python",
      "file_extension": ".py"
    },
    "creator": "demo",
    "modifiedBy": "demo",
    "createdOn": 1756914223106,
    "customFields": {},
    "tags": []
  },
  "nbformat": 4,
  "nbformat_minor": 1,
  "cells": [
    {
      "execution_count": 0,
      "cell_type": "code",
      "metadata": {},
      "source": [
        "import os\nimport dataiku\nfrom dataiku import pandasutils as pdu\nimport pandas as pd"
      ],
      "outputs": []
    },
    {
      "execution_count": 0,
      "cell_type": "code",
      "metadata": {},
      "source": [
        "# built_in_plugins \u003d [\u0027govern\u0027, \u0027local-r-dev-setup\u0027, \u0027default-samples\u0027, \n#                     \u0027code-studio-blocks\u0027, \u0027sendmail\u0027, \u0027colorbrewer-palettes\u0027, \u0027eks-clusters\u0027, \n#                     \u0027builtin-macros\u0027, \u0027k8s-metrics-utils\u0027, \u0027google-search-tool\u0027]\n\nbuilt_in_plugins \u003d [\u0027builtin-macros\u0027, \u0027local-r-dev-setup\u0027, \u0027default-samples\u0027, \u0027code-studio-blocks\u0027,\n                   \u0027colorbrewer-palettes\u0027, \u0027k8s-metrics-utils\u0027]"
      ],
      "outputs": []
    },
    {
      "execution_count": 0,
      "cell_type": "code",
      "metadata": {},
      "source": [
        "# Connect to Dataiku DSS\nclient \u003d dataiku.api_client()"
      ],
      "outputs": []
    },
    {
      "execution_count": 0,
      "cell_type": "code",
      "metadata": {},
      "source": [
        "# List all installed plugins\nplugins \u003d client.list_plugins()\n\n# Filter for Store plugins\nstore_plugins \u003d plugins # [plugin for plugin in plugins if \u0027store_id\u0027 in plugin and plugin[\u0027store_id\u0027]]\n\n# Initialize a list to collect results\nresults \u003d []\n\n# Iterate over the store plugins to collect required information\nfor plugin_info in store_plugins:\n    plugin_id \u003d plugin_info[\u0027id\u0027]\n    \n    # Get plugin object\n    plugin \u003d client.get_plugin(plugin_id)\n#     s \u003d plugin.get_settings().get_raw()\n#     print(s)\n    \n    # List plugin usages\n    usages \u003d plugin.list_usages().usages\n    usage_count \u003d len(usages)\n    \n    # Check for code environments\n    # has_code_env \u003d \u0027code_env_name\u0027 in plugin_info\n    \n    # Append the result\n    results.append({\n        \"Plugin ID\": plugin_id,\n        \"Usage Count\": usage_count,\n        # \"Has Code Environment\": has_code_env\n    })"
      ],
      "outputs": []
    },
    {
      "execution_count": 0,
      "cell_type": "code",
      "metadata": {},
      "source": [
        "df_results \u003d pd.DataFrame(results)\ndf_results.sort_values(by\u003d\u0027Usage Count\u0027, ascending\u003dFalse)"
      ],
      "outputs": []
    },
    {
      "execution_count": 0,
      "cell_type": "code",
      "metadata": {},
      "source": [
        "plugins_to_remove \u003d df_results.loc[df_results[\"Usage Count\"] \u003d\u003d 0, \"Plugin ID\"].astype(str).tolist()\nplugins_to_remove"
      ],
      "outputs": []
    },
    {
      "execution_count": 0,
      "cell_type": "code",
      "metadata": {},
      "source": [
        "for plugin_id_to_remove in plugins_to_remove:\n    if plugin_id_to_remove not in built_in_plugins:\n\n        plugin \u003d client.get_plugin(plugin_id_to_remove)\n        print(f\"Uninstalling plugin because it has 0 usages and is not built in: {plugin_id_to_remove}\")\n        future \u003d plugin.delete(force\u003dFalse)\n        future.wait_for_result()"
      ],
      "outputs": []
    }
  ]
}