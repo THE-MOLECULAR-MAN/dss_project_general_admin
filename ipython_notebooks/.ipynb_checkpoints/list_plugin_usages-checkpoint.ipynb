{
  "metadata": {
    "kernelspec": {
      "name": "python3",
      "display_name": "Python 3 (ipykernel)",
      "language": "python"
    },
    "hide_input": false,
    "language_info": {
      "name": "python",
      "version": "3.9.21",
      "mimetype": "text/x-python",
      "codemirror_mode": {
        "name": "ipython",
        "version": 3
      },
      "pygments_lexer": "ipython3",
      "nbconvert_exporter": "python",
      "file_extension": ".py"
    },
    "creator": "demo",
    "modifiedBy": "demo",
    "createdOn": 1756914223106,
    "customFields": {},
    "tags": []
  },
  "nbformat": 4,
  "nbformat_minor": 1,
  "cells": [
    {
      "execution_count": 0,
      "cell_type": "code",
      "metadata": {},
      "source": [
        "import os\nimport dataiku\nfrom dataiku import pandasutils as pdu\nimport pandas as pd"
      ],
      "outputs": []
    },
    {
      "execution_count": 0,
      "cell_type": "code",
      "metadata": {},
      "source": [
        "# Connect to Dataiku DSS\nclient \u003d dataiku.api_client()\nresults \u003d []"
      ],
      "outputs": []
    },
    {
      "execution_count": 0,
      "cell_type": "code",
      "metadata": {},
      "source": [
        "# List all installed plugins\nplugins \u003d client.list_plugins()\n\n# Filter for Store plugins\nstore_plugins \u003d plugins # [plugin for plugin in plugins if \u0027store_id\u0027 in plugin and plugin[\u0027store_id\u0027]]\n\n# Initialize a list to collect results\n\n\n# Iterate over the store plugins to collect required information\nfor plugin_info in store_plugins:\n    plugin_id \u003d plugin_info[\u0027id\u0027]\n    \n    # Get plugin object\n    plugin \u003d client.get_plugin(plugin_id)\n    \n    # List plugin usages\n    usages \u003d plugin.list_usages().usages\n    usage_count \u003d len(usages)\n    \n    # Check for code environments\n    # has_code_env \u003d \u0027code_env_name\u0027 in plugin_info\n    \n    # Append the result\n    results.append({\n        \"Plugin ID\": plugin_id,\n        \"Usage Count\": usage_count,\n        # \"Has Code Environment\": has_code_env\n    })\n\n# Display the collected results\ndf_results \u003d pd.DataFrame(results)\ndf_results"
      ],
      "outputs": []
    },
    {
      "execution_count": 0,
      "cell_type": "code",
      "metadata": {},
      "source": [
        ""
      ],
      "outputs": []
    }
  ]
}