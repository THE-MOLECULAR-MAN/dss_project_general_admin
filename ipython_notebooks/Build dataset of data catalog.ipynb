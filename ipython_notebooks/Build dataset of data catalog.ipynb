{
  "metadata": {
    "kernelspec": {
      "name": "python3",
      "display_name": "Python 3 (ipykernel)",
      "language": "python"
    },
    "hide_input": false,
    "language_info": {
      "name": "python",
      "version": "3.9.21",
      "mimetype": "text/x-python",
      "codemirror_mode": {
        "name": "ipython",
        "version": 3
      },
      "pygments_lexer": "ipython3",
      "nbconvert_exporter": "python",
      "file_extension": ".py"
    },
    "customFields": {},
    "creator": "demo",
    "tags": [],
    "createdOn": 1759339284072,
    "modifiedBy": "demo"
  },
  "nbformat": 4,
  "nbformat_minor": 1,
  "cells": [
    {
      "execution_count": 0,
      "cell_type": "code",
      "metadata": {},
      "source": [
        "import dataiku\nfrom dataiku import pandasutils as pdu\nimport pandas as pd"
      ],
      "outputs": []
    },
    {
      "execution_count": 0,
      "cell_type": "code",
      "metadata": {},
      "source": [
        "# Connect to the Dataiku instance\nclient \u003d dataiku.api_client()\nproject \u003d client.get_project(\u0027DKU_TSHIRTS\u0027)\n\n# List all datasets in the project\ndatasets \u003d project.list_datasets()\n"
      ],
      "outputs": []
    },
    {
      "execution_count": 0,
      "cell_type": "code",
      "metadata": {},
      "source": [
        "metadata_records \u003d []\n\n# Retrieve metadata for each dataset\nfor dataset_name in datasets:\n    dataset \u003d project.get_dataset(dataset_name)\n    metadata \u003d dataset.get_settings().get_raw_params()\n    # Extract relevant fields (for illustration purposes)\n    metadata_records.append({\n        \"name\": metadata[\"label\"],\n        \"description\": metadata.get(\"description\", \"\"),\n        \"tags\": metadata.get(\"tags\", [])\n    })\n\n# Create a Pandas DataFrame\nmetadata_df \u003d pd.DataFrame(metadata_records)\n\n# Create a new dataset in DSS\nnew_dataset \u003d project.create_dataset(\"datasets_metadata\", {\"type\": \"INLINE\"})\nnew_dataset.write_with_schema(metadata_df)"
      ],
      "outputs": []
    }
  ]
}