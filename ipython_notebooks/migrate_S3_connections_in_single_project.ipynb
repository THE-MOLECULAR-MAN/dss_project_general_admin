{
  "metadata": {
    "hide_input": false,
    "kernelspec": {
      "name": "python3",
      "display_name": "Python 3 (ipykernel)",
      "language": "python"
    },
    "language_info": {
      "name": "python",
      "version": "3.9.21",
      "mimetype": "text/x-python",
      "codemirror_mode": {
        "name": "ipython",
        "version": 3
      },
      "pygments_lexer": "ipython3",
      "nbconvert_exporter": "python",
      "file_extension": ".py"
    },
    "customFields": {},
    "creator": "tim.honker@dataiku.com",
    "tags": [],
    "createdOn": 1746451947361,
    "modifiedBy": "demo",
    "dkuGit": {
      "lastInteraction": 1756906848944,
      "gitReference": {
        "remote": "git@github.com:THE-MOLECULAR-MAN/dss_private.git",
        "checkout": "main",
        "remotePath": "admin/migrate_S3_connections_in_single_project.ipynb",
        "remoteLogin": "",
        "lastHash": "19311061565e9449682d8d5e9100de7bb01194db",
        "lastTimestamp": 1756906681000,
        "isDirty": false
      }
    }
  },
  "nbformat": 4,
  "nbformat_minor": 1,
  "cells": [
    {
      "execution_count": 0,
      "cell_type": "code",
      "metadata": {},
      "source": [
        "import dataiku\nfrom dataiku import pandasutils as pdu\nimport pandas as pd"
      ],
      "outputs": []
    },
    {
      "execution_count": 0,
      "cell_type": "code",
      "metadata": {},
      "source": [
        "# Define the old and new S3 connection names\nold_s3_connection \u003d \"honker_personal_AWS_S3\"\nnew_s3_connection \u003d \"dataiku-managed-storage\""
      ],
      "outputs": []
    },
    {
      "execution_count": 0,
      "cell_type": "code",
      "metadata": {},
      "source": [
        "# Initialize the Dataiku API client\nclient \u003d dataiku.api_client()\n\n# Get the current project\nproject \u003d client.get_default_project()\n\n# List all datasets in the current project\nunique_dataset_names \u003d set(dataset[\u0027name\u0027] for dataset in project.list_datasets())"
      ],
      "outputs": []
    },
    {
      "execution_count": 0,
      "cell_type": "code",
      "metadata": {},
      "source": [
        "def get_dataset_configs():\n    extracted_data \u003d [\n        {\n            \u0027type\u0027: row.get(\u0027type\u0027),\n            \u0027connection\u0027: row.get(\u0027params\u0027, {}).get(\u0027connection\u0027),\n            \u0027name\u0027: row.get(\u0027name\u0027),\n            \u0027table\u0027: row.get(\u0027params\u0027, {}).get(\u0027table\u0027),\n            \u0027catalog\u0027: row.get(\u0027params\u0027, {}).get(\u0027catalog\u0027),\n            \u0027schema\u0027: row.get(\u0027params\u0027, {}).get(\u0027schema\u0027),\n            \u0027path\u0027:  row.get(\u0027params\u0027, {}).get(\u0027path\u0027),\n            # get the schema too\n        }\n        for row in project.list_datasets()\n    ]\n    return pd.DataFrame(extracted_data).sort_values(by\u003d[\u0027type\u0027, \u0027connection\u0027, \u0027name\u0027])"
      ],
      "outputs": []
    },
    {
      "execution_count": 0,
      "cell_type": "code",
      "metadata": {},
      "source": [
        "get_dataset_configs()"
      ],
      "outputs": []
    },
    {
      "execution_count": 0,
      "cell_type": "code",
      "metadata": {},
      "source": [
        "for dataset_name in unique_dataset_names:\n    dataset \u003d dataiku.Dataset(dataset_name)\n    dataset_info \u003d dataset.get_config()\n\n    # Check if the dataset is using the old S3 connection\n    if dataset_info[\u0027type\u0027] \u003d\u003d \u0027S3\u0027:\n        if dataset_info[\u0027params\u0027][\u0027connection\u0027] \u003d\u003d old_s3_connection:\n            settings \u003d project.get_dataset(dataset_name).get_settings()\n\n            # Update to the new S3 connection\n            settings.set_connection_and_path(new_s3_connection, settings.get_raw_params()[\u0027path\u0027])\n            settings.save()\n            print(f\"Dataset {dataset_name} updated to use connection: {new_s3_connection}\")"
      ],
      "outputs": []
    },
    {
      "execution_count": 0,
      "cell_type": "code",
      "metadata": {},
      "source": [
        "get_dataset_configs()"
      ],
      "outputs": []
    }
  ]
}