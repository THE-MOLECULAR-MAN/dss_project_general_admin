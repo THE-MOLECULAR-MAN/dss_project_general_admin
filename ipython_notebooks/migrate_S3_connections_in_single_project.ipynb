{
  "metadata": {
    "createdOn": 1746451947361,
    "creator": "tim.honker@dataiku.com",
    "customFields": {},
    "hide_input": false,
    "kernelspec": {
      "display_name": "Python 3 (ipykernel)",
      "language": "python",
      "name": "python3"
    },
    "language_info": {
      "codemirror_mode": {
        "name": "ipython",
        "version": 3
      },
      "file_extension": ".py",
      "mimetype": "text/x-python",
      "name": "python",
      "nbconvert_exporter": "python",
      "pygments_lexer": "ipython3",
      "version": "3.9.20"
    },
    "modifiedBy": "tim.honker@dataiku.com",
    "tags": [],
    "dkuGit": {
      "lastInteraction": 1756906584295,
      "gitReference": {
        "remote": "git@github.com:THE-MOLECULAR-MAN/dss_private.git",
        "checkout": "main",
        "remotePath": "admin/migrate_S3_connections_in_single_project.ipynb",
        "remoteLogin": "",
        "lastHash": "bff3dd4953aa25023588eefba71b9b9f6a8dfc45",
        "lastTimestamp": 1755800954000,
        "isDirty": false
      }
    }
  },
  "nbformat": 4,
  "nbformat_minor": 1,
  "cells": [
    {
      "execution_count": 0,
      "cell_type": "code",
      "metadata": {},
      "source": [
        "import dataiku\n",
        "from dataiku import pandasutils as pdu\n",
        "import pandas as pd"
      ],
      "outputs": []
    },
    {
      "execution_count": 0,
      "cell_type": "code",
      "metadata": {},
      "source": [
        "# Define the old and new S3 connection names\n",
        "old_s3_connection \u003d \"honker_personal_AWS_S3\"\n",
        "new_s3_connection \u003d \"dataiku-managed-storage\""
      ],
      "outputs": []
    },
    {
      "execution_count": 0,
      "cell_type": "code",
      "metadata": {},
      "source": [
        "# Initialize the Dataiku API client\n",
        "client \u003d dataiku.api_client()\n",
        "\n",
        "# Get the current project\n",
        "project \u003d client.get_default_project()\n",
        "\n",
        "# List all datasets in the current project\n",
        "unique_dataset_names \u003d set(dataset[\u0027name\u0027] for dataset in project.list_datasets())"
      ],
      "outputs": []
    },
    {
      "execution_count": 0,
      "cell_type": "code",
      "metadata": {},
      "source": [
        "def get_dataset_configs():\n",
        "    extracted_data \u003d [\n",
        "        {\n",
        "            \u0027type\u0027: row.get(\u0027type\u0027),\n",
        "            \u0027connection\u0027: row.get(\u0027params\u0027, {}).get(\u0027connection\u0027),\n",
        "            \u0027name\u0027: row.get(\u0027name\u0027),\n",
        "            \u0027table\u0027: row.get(\u0027params\u0027, {}).get(\u0027table\u0027),\n",
        "            \u0027catalog\u0027: row.get(\u0027params\u0027, {}).get(\u0027catalog\u0027),\n",
        "            \u0027schema\u0027: row.get(\u0027params\u0027, {}).get(\u0027schema\u0027),\n",
        "            \u0027path\u0027:  row.get(\u0027params\u0027, {}).get(\u0027path\u0027),\n",
        "            # get the schema too\n",
        "        }\n",
        "        for row in project.list_datasets()\n",
        "    ]\n",
        "    return pd.DataFrame(extracted_data).sort_values(by\u003d[\u0027type\u0027, \u0027connection\u0027, \u0027name\u0027])"
      ],
      "outputs": []
    },
    {
      "execution_count": 0,
      "cell_type": "code",
      "metadata": {},
      "source": [
        "get_dataset_configs()"
      ],
      "outputs": []
    },
    {
      "execution_count": 0,
      "cell_type": "code",
      "metadata": {},
      "source": [
        "for dataset_name in unique_dataset_names:\n",
        "    dataset \u003d dataiku.Dataset(dataset_name)\n",
        "    dataset_info \u003d dataset.get_config()\n",
        "\n",
        "    # Check if the dataset is using the old S3 connection\n",
        "    if dataset_info[\u0027type\u0027] \u003d\u003d \u0027S3\u0027:\n",
        "        if dataset_info[\u0027params\u0027][\u0027connection\u0027] \u003d\u003d old_s3_connection:\n",
        "            settings \u003d project.get_dataset(dataset_name).get_settings()\n",
        "\n",
        "            # Update to the new S3 connection\n",
        "            settings.set_connection_and_path(new_s3_connection, settings.get_raw_params()[\u0027path\u0027])\n",
        "            settings.save()\n",
        "            print(f\"Dataset {dataset_name} updated to use connection: {new_s3_connection}\")"
      ],
      "outputs": []
    },
    {
      "execution_count": 0,
      "cell_type": "code",
      "metadata": {},
      "source": [
        "get_dataset_configs()"
      ],
      "outputs": []
    }
  ]
}