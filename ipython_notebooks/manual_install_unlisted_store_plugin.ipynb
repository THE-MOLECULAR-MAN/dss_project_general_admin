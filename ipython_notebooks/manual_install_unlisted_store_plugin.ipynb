{
  "metadata": {
    "hide_input": false,
    "kernelspec": {
      "name": "python3",
      "display_name": "Python 3 (ipykernel)",
      "language": "python"
    },
    "language_info": {
      "name": "python",
      "version": "3.10.12",
      "mimetype": "text/x-python",
      "codemirror_mode": {
        "name": "ipython",
        "version": 3
      },
      "pygments_lexer": "ipython3",
      "nbconvert_exporter": "python",
      "file_extension": ".py"
    },
    "modifiedBy": "admin",
    "createdOn": 1751312186828,
    "dkuGit": {
      "lastInteraction": 1756906848985,
      "gitReference": {
        "remote": "git@github.com:THE-MOLECULAR-MAN/dss_private.git",
        "checkout": "main",
        "remotePath": "admin/upgrade_all_plugins.ipynb",
        "remoteLogin": "",
        "lastHash": "19311061565e9449682d8d5e9100de7bb01194db",
        "lastTimestamp": 1756906681000,
        "isDirty": false
      }
    },
    "creationTag": {
      "lastModifiedBy": {
        "login": "demo"
      },
      "lastModifiedOn": 1751312186828,
      "versionNumber": 0
    },
    "tags": [],
    "customFields": {},
    "creator": "demo"
  },
  "nbformat": 4,
  "nbformat_minor": 1,
  "cells": [
    {
      "execution_count": 0,
      "cell_type": "code",
      "metadata": {},
      "source": [
        "import dataiku\nfrom dataikuapi.utils import DataikuException"
      ],
      "outputs": []
    },
    {
      "execution_count": 0,
      "cell_type": "code",
      "metadata": {},
      "source": [
        "client \u003d dataiku.api_client()\n\n"
      ],
      "outputs": []
    },
    {
      "execution_count": 0,
      "cell_type": "code",
      "metadata": {},
      "source": [
        "plugin_IDs_to_install \u003d [\u0027x\u0027]\n\n\nplugin \u003d client.get_plugin(plugin_id)\nfuture \u003d plugin.update_from_store()\nfuture.wait_for_result()\n"
      ],
      "outputs": []
    }
  ]
}